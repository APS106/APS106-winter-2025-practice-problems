{
 "cells": [
  {
   "cell_type": "markdown",
   "metadata": {},
   "source": [
    "# Week 12\n",
    "\n",
    "Here are some questions that should exercise a bunch of the stuff we've studied in the course. "
   ]
  },
  {
   "cell_type": "markdown",
   "metadata": {},
   "source": [
    "## Question 1\n",
    "Create your own text file with TextEdit or NotePad. Save it as a .txt file! The file should have multiple lines - at least 10 of them to make it interesting. Make sure your code works with both an odd and an even number of lines.\n",
    "\n",
    "Write a function that takes a string as a parameter that will be the name of the file. Your function should do the following:\n",
    "* open the file whose name is passed in for reading\n",
    "* open a second file whose name is the same as the one passed in with a \"_rev\" before the .txt extension. So, if the parameter passed in is \"my_text.txt\", you should create a new file called \"my_text_rev.txt\".\n",
    "* write the contents of the first file to the second file but swap the order of each pair of consecutive lines. For example, if this is your input file:\n",
    "\n",
    "\n",
    "    Bicycle\n",
    "    We are the champions\n",
    "    Bohemian rhapsody \n",
    "    We will rock you\n",
    "    Another one bites the dust\n",
    "\n",
    "then this should be the output file:\n",
    "\n",
    "    We are the champions\n",
    "    Bicycle\n",
    "    We will rock you\n",
    "    Bohemian rhapsody \n",
    "    Another one bites the dust\n",
    "\n",
    "1. Write the function using a list. (Easy)\n",
    "2. Write the function without using any collections (no lists, tuples, sets, dictionaries). You cannot write your own collection. Why? What if your textfile is 800 Gb? In part a) you will try to read the whole thing into memory and your program will either crash or take a very long time. Here, you should write the code so that you only ever had two lines in memory at any one time. (Intermediate)\n"
   ]
  },
  {
   "cell_type": "code",
   "execution_count": null,
   "metadata": {},
   "outputs": [],
   "source": []
  },
  {
   "cell_type": "markdown",
   "metadata": {},
   "source": [
    "## Question 2\n",
    "Write a program (you can choose to use functions or not) to create a \"fake\" marks file as follows.\n",
    "* the course has the following assessments: Assignment1, Assignment2, Midterm1, Midterm2, Final\n",
    "    * Assignment1 has 1 part A\n",
    "    * Assignment2 has 2 parts A, B\n",
    "    *  Midterm1 has 4 parts (A-D)\n",
    "    * Midterm2 has 5 parts (A-E)\n",
    "    * Final has 5 parts (A-E)\n",
    "* each assessment is marked out of 100 and so the sum of the values of each part must be 100. Each part of a given assessment is worth the same. So if there are 4 parts, each is worth 25 marks.\n",
    "* you have 30 students in the class and each one has a unique 3-digit ID number. For each student, generate a random 3-digit number ID.\n",
    "* For each student, for each part of each assessment, generate the student's mark. The mark must be between 0 and the value of that part of that assessment.\n",
    "* Write out the marks file as a CSV with the following format:\n",
    "\n",
    "\n",
    "    id, assessment_name, mark_part1, mark_part2, ... \n",
    "\n",
    "(up to the number of parts of the assignment). For example, the first three lines of the file might be:\n",
    "\n",
    "    333, Assignment1, 67\n",
    "    333, Assignment2, 44, 20\n",
    "    333, Midterm1, 20, 21, 18, 22\n",
    "\n",
    "This file will be used in Q3.\n",
    "\n",
    "One option is to create data structures using classes and/or dictionaries. You could do it this way. However, the main purpose of this file is to be used in Q3, so you can feel free to be \"quick and dirty\". My code takes about 20 lines.\n"
   ]
  },
  {
   "cell_type": "code",
   "execution_count": null,
   "metadata": {},
   "outputs": [],
   "source": []
  },
  {
   "cell_type": "markdown",
   "metadata": {},
   "source": [
    "## Question 3:\n",
    "The purpose of this problem is to give you practice with nested dictionaries.\n",
    "\n",
    "### a)\n",
    "Write a function that takes in a filename, reads in the CSV file you created in Q2 from a file of that name, and returns a dictionary of the following form:\n",
    "\n",
    "    {id : {assessment : total_mark}}\n",
    "\n",
    "This is a nested dictionary. The outer dictionary has keys corresponding to student IDs. For each student ID, the value is an inner dictionary whose keys are the 5 assessments and whose values are the total score on the corresponding assessment. For example, from the partial CSV file listed in Q2, you would create the following partial dictionary.\n",
    "\n",
    "    {333 : {'Assignment1' : 67,\n",
    "            'Assignment2' : 64,\n",
    "            'Midterm1' : 81, ...},...}\n",
    "\n",
    "Then write a function that takes the dictionary and returns a list of tuples - one for each student. Each tuple should be of the form (`id`, `avg_mark`) where `id` is an ID number and `avg_mark` is the average mark from all assessments of that student.\n",
    "\n",
    "### b) \n",
    "Write a function that takes in a filename, reads in the CSV file you created in Q2 from a file of that name, and returns a dictionary of the following form:\n",
    "\n",
    "    {id : {assessment : {assessment_part : mark}}}\n",
    "\n",
    "This is a triply nested dictionary. The outer dictionary has keys corresponding to student IDs. For each student ID, the value is an inner dictionary whose keys are the 5 assessments and whose values are another dictionary. This inner-most dictionary should have keys corresponding to the parts of the assessment (i.e., A,B,C,D,E). For example, from the partial CSV file listed in Q2, you would create the following partial dictionary.\n",
    "\n",
    "    {333 : {'Assignment1' : {'A' : 67},\n",
    "            'Assignment2' : {'A' : 44, 'B' : 20},\n",
    "            'Midterm1' : {'A' : 44, 'B' : 20, 'C' : 18, 'D' : 22},\n",
    "    ...},\n",
    "    ...}\n",
    "\n",
    "Then write a function that takes the dictionary and returns a list of tuples - one for each student. Each tuple should be of the form (`id`, `avg_mark`) where `id` is an ID number and `avg_mark` is the average mark from all assessments of that student. Note that this function is different from the one in part a) because the dictionary has a different form."
   ]
  },
  {
   "cell_type": "code",
   "execution_count": null,
   "metadata": {},
   "outputs": [],
   "source": []
  },
  {
   "cell_type": "markdown",
   "metadata": {},
   "source": [
    "## Question 4\n",
    "\n",
    "Using the same data and set-up as Q3 do the following.\n",
    "\n",
    "### a) \n",
    "Redo Q3a using a `Student` class. \n",
    "\n",
    "Create a `Student` class. The class should contain the student ID and a dictionary that is the same as the inner dictionary in Q3a. That is, each `Student` object should have a dictionary of the form: `{assessment : total_mark}`\n",
    "\n",
    "For example:\n",
    "\n",
    "    {'Assignment1' : 67,'Assignment2' : 64,'Midterm1' : 81, ...}\n",
    "\n",
    "Create a dictionary of the form: `{id : Student-object}`\n",
    "\n",
    "Then write a function that takes the dictionary and returns a list of tuples - one for each student. Each tuple should be of the form (`id`, `avg_mark`) where `id` is an ID number and avg_mark is the average mark from all assessments of that student.\n",
    "\n",
    "### b) \n",
    "Redo Q3b using a `Student` class. \n",
    "\n",
    "Create a `Student` class. The class should contain the student ID and a dictionary that is the same as the inner dictionary in Q3b. That is, each `Student` object should have a dictionary of the form: `{assessment : {assessment_part : mark}}`\n",
    "\n",
    "For example:\n",
    "\n",
    "    {'Assignment1' : {'A' : 67},\n",
    "    'Assignment2' : {'A' : 44, 'B' : 20},\n",
    "    'Midterm1' : {'A' : 44, 'B' : 20, 'C' : 18, 'D' : 22},...}\n",
    "\n",
    "Create a dictionary of the form: `{id : Student-object}`\n",
    "\n",
    "Then write a function that takes the dictionary and returns a list of tuples - one for each student. Each tuple should be of the form (`id`, `avg_mark`) where `id` is an ID number and `avg_mark` is the average mark from all assessments of that student."
   ]
  },
  {
   "cell_type": "code",
   "execution_count": null,
   "metadata": {},
   "outputs": [],
   "source": []
  }
 ],
 "metadata": {
  "kernelspec": {
   "display_name": "Python 3",
   "language": "python",
   "name": "python3"
  },
  "language_info": {
   "codemirror_mode": {
    "name": "ipython",
    "version": 3
   },
   "file_extension": ".py",
   "mimetype": "text/x-python",
   "name": "python",
   "nbconvert_exporter": "python",
   "pygments_lexer": "ipython3",
   "version": "3.8.5"
  }
 },
 "nbformat": 4,
 "nbformat_minor": 4
}
