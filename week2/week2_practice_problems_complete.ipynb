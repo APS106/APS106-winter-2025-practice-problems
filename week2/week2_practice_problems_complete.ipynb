{
 "cells": [
  {
   "cell_type": "markdown",
   "metadata": {},
   "source": [
    "# Week 2 Practice Problems\n"
   ]
  },
  {
   "cell_type": "markdown",
   "metadata": {},
   "source": [
    "## Question 1.\n",
    "\n",
    "Write a function that takes in a three-digit integer and returns the \"flipped\" version (that is, with its digits reversed). For example:\n",
    "```\n",
    "Enter a positive number less than 1000: 177\n",
    "That number flipped is 771\n",
    "```\n",
    "Your function should take the user-input integer as an argument and return the flipped integer. That means all your input and output with the user should be in your \"main\" code, not in the function.\n",
    "\n",
    "\n",
    "***Hint:***\n",
    "* Consider using the arithmetic operators `//` and `%` to solve this problem.\n",
    "* Make sure it works if the user enters a one- or two-digit integer. For example, 37 flipped is 730, and 8 flipped is 800.\n"
   ]
  },
  {
   "cell_type": "code",
   "execution_count": 1,
   "metadata": {},
   "outputs": [],
   "source": [
    "def flip_number(input_number):\n",
    "    '''(int) -> int\n",
    "    Return the 3-digit integer with its digits reversed including leading 0s if necessary\n",
    "    '''\n",
    "    ones_digit = input_number % 10\n",
    "    tens_digit = (input_number // 10) % 10\n",
    "    hundreds_digit = (input_number // 100)\n",
    "    return 100 * ones_digit + 10 * tens_digit + hundreds_digit   "
   ]
  },
  {
   "cell_type": "markdown",
   "metadata": {},
   "source": [
    "Let's now test the function `flip_number` in the cell below. **Fill in any missing code, where applicable.**  \n",
    "\n",
    "***Note:*** Be careful of the variable type of the return from the `input` function."
   ]
  },
  {
   "cell_type": "code",
   "execution_count": 2,
   "metadata": {},
   "outputs": [
    {
     "name": "stdin",
     "output_type": "stream",
     "text": [
      "Enter a positive number less than 1000:  177\n"
     ]
    },
    {
     "name": "stdout",
     "output_type": "stream",
     "text": [
      "771\n"
     ]
    }
   ],
   "source": [
    "user_input = input(\"Enter a positive number less than 1000: \")\n",
    "result = flip_number( int(user_input) )\n",
    "print(result)"
   ]
  },
  {
   "cell_type": "markdown",
   "metadata": {},
   "source": [
    "---"
   ]
  },
  {
   "cell_type": "markdown",
   "metadata": {},
   "source": [
    "#  Question 2\n",
    "\n",
    "Write a function that takes in a positive integer and prints the minimum number of quarters, dimes, nickels, and pennies needed to make up that amount.  \n",
    "For example:\n",
    "```\n",
    "Enter a number of cents: 67\n",
    "2 quarter(s), 1 dime(s), 1 nickel(s), 2 penny(ies)\n",
    "```\n",
    "\n",
    "The prompt for the user should be outside the function but the printing should be **inside** the function.\n",
    "In case you are not familiar with Canadian currency: \n",
    "* a quarter is 25 cents\n",
    "* a dime is 10 cents\n",
    "* a nickel is 5 cents\n",
    "* a penny is 1 cent\n",
    "\n",
    "Use the minimum number of coins that you can by first maximizing the number of quarters, then the number of dimes, etc"
   ]
  },
  {
   "cell_type": "code",
   "execution_count": 3,
   "metadata": {},
   "outputs": [],
   "source": [
    "def calc_change(num):\n",
    "    '''(int) -> NoneType\n",
    "    Print out the number of quarters, dimes, nickels, and pennies\n",
    "    needed to make up num cents\n",
    "    '''\n",
    "    num_quarters = num // 25\n",
    "    num -= num_quarters * 25\n",
    "    \n",
    "    num_dimes = num // 10\n",
    "    num -= num_dimes * 10\n",
    "    \n",
    "    num_nickels = num // 5\n",
    "    num -= num_nickels * 5\n",
    "    \n",
    "    print(num_quarters, \"quarters,\", num_dimes, \"dimes,\", \n",
    "          num_nickels, \"nickels,\", num, \"penny(ies)\")"
   ]
  },
  {
   "cell_type": "markdown",
   "metadata": {},
   "source": [
    "Let's now test the function `calc_change` in the cell below. **Fill in any missing code, where applicable**"
   ]
  },
  {
   "cell_type": "code",
   "execution_count": 4,
   "metadata": {},
   "outputs": [
    {
     "name": "stdin",
     "output_type": "stream",
     "text": [
      "Enter a number of cents: 67\n"
     ]
    },
    {
     "name": "stdout",
     "output_type": "stream",
     "text": [
      "2 quarters, 1 dimes, 1 nickels, 2 penny(ies)\n"
     ]
    }
   ],
   "source": [
    "user_input = input(\"Enter a number of cents:\")\n",
    "num = int(user_input)\n",
    "calc_change(num)"
   ]
  },
  {
   "cell_type": "markdown",
   "metadata": {},
   "source": [
    "Now, let's slightly modify the function `calc_change` to make the printing occurs ***outside*** the function. Let's call this function `cal_change_alt`. "
   ]
  },
  {
   "cell_type": "code",
   "execution_count": 5,
   "metadata": {},
   "outputs": [],
   "source": [
    "def cal_change_alt(num):   \n",
    "    '''(int) -> (int, int, int, int)\n",
    "    Print out the number of quarters, dimes, nickels, and pennies\n",
    "    needed to make up num cents\n",
    "    '''\n",
    "    num_quarters = num // 25\n",
    "    num -= num_quarters * 25\n",
    "    \n",
    "    num_dimes = num // 10\n",
    "    num -= num_dimes * 10\n",
    "    \n",
    "    num_nickels = num // 5\n",
    "    num -= num_nickels * 5\n",
    "    \n",
    "    return num_quarters, num_dimes, num_nickels, num\n"
   ]
  },
  {
   "cell_type": "markdown",
   "metadata": {},
   "source": [
    "Test the fucntion `cal_change_alt` in the cell below. **Fill in any missing code, where applicable.**"
   ]
  },
  {
   "cell_type": "code",
   "execution_count": 6,
   "metadata": {},
   "outputs": [
    {
     "name": "stdin",
     "output_type": "stream",
     "text": [
      "Enter a number of cents: 67\n"
     ]
    },
    {
     "name": "stdout",
     "output_type": "stream",
     "text": [
      "2 quarters, 1 dimes, 1 nickels, 2 penny(ies)\n"
     ]
    }
   ],
   "source": [
    "user_input = input(\"Enter a number of cents:\")\n",
    "num_quarters, num_dimes, num_nickels, num = cal_change_alt(int(num))\n",
    "print(num_quarters, \"quarters,\", num_dimes, \"dimes,\", \n",
    "          num_nickels, \"nickels,\", num, \"penny(ies)\")"
   ]
  },
  {
   "cell_type": "markdown",
   "metadata": {},
   "source": [
    "---"
   ]
  },
  {
   "cell_type": "markdown",
   "metadata": {},
   "source": [
    "# Question 3\n",
    " Write a function that takes floating-point number and then prints two values: the number truncated to the first decimal place and the number rounded to the first decimal place. For example:\n",
    "```\n",
    "Enter a number: 4.158\n",
    "Truncated to one decimal place: 4.1\n",
    "Rounded to one decimal place: 4.2\n",
    "```\n",
    "The prompt for the user should be **outside** the function but the printing should be inside the function\n",
    "\n",
    "**Hint:** For truncating, there are mutiple ways to achieve this. Think about using `int`, or alternatively, you can also think about using the [`math`](https://docs.python.org/3/library/math.html) module."
   ]
  },
  {
   "cell_type": "code",
   "execution_count": 7,
   "metadata": {},
   "outputs": [],
   "source": [
    "import math\n",
    "def truncate_round(num):\n",
    "    '''(float) -> NoneType\n",
    "    Truncate and round a floating point number to \n",
    "    one decimal place\n",
    "    '''\n",
    "    \n",
    "    trunc_num = int(num * 10) / 10\n",
    "    print(\"Truncated to one decimal place: \", trunc_num)\n",
    "\n",
    "    # use math.trunc truncate\n",
    "    trunc_num = math.trunc(num * 10) / 10\n",
    "    print(\"Truncated to one decimal place: \", trunc_num)\n",
    "\n",
    "    # Round: most straighforward is to use round function\n",
    "    round_num = round(num,1)\n",
    "    print(\"Rounded to one decimal place: \", round_num)\n"
   ]
  },
  {
   "cell_type": "markdown",
   "metadata": {},
   "source": [
    "Test the fucntion  in the cell below. **Fill in any missing code, where applicable.**"
   ]
  },
  {
   "cell_type": "code",
   "execution_count": 8,
   "metadata": {},
   "outputs": [
    {
     "name": "stdin",
     "output_type": "stream",
     "text": [
      "Enter a number: 4.158\n"
     ]
    },
    {
     "name": "stdout",
     "output_type": "stream",
     "text": [
      "Truncated to one decimal place:  4.1\n",
      "Truncated to one decimal place:  4.1\n",
      "Rounded to one decimal place:  4.2\n"
     ]
    }
   ],
   "source": [
    "user_input = input(\"Enter a number:\")\n",
    "truncate_round(float(user_input))\n"
   ]
  },
  {
   "cell_type": "markdown",
   "metadata": {},
   "source": [
    "---"
   ]
  },
  {
   "cell_type": "markdown",
   "metadata": {},
   "source": [
    "# Question 4\n",
    "\n",
    "Write a  trigonometry function. Ask a user for an angle, specified in **degrees**. Then print the sine, cosine, and tangent of that angle. Round to 3 decimal places. For example:\n",
    "```\n",
    "Enter an angle in degrees:  60\n",
    "sin(60.0) is 0.866\n",
    "cos(60.0) is 0.5\n",
    "tan(60.0) is 1.732\n",
    "```\n",
    "\n",
    "Printing should occur **inside** the function. You can use [`math`](https://docs.python.org/3/library/math.html) module, where applicable."
   ]
  },
  {
   "cell_type": "code",
   "execution_count": 9,
   "metadata": {},
   "outputs": [],
   "source": [
    "def trig_calc(angle):\n",
    "    '''(int) -> NoneType\n",
    "    Convert a radian angle to degrees, and \n",
    "    print sine, cosine, and tangent of that angle\n",
    "    '''\n",
    "    \n",
    "    angle_in_radian = math.radians(angle)\n",
    "\n",
    "    print(\"sin(\", angle, \") is \", round(math.sin(angle_in_radian), 3), sep='')\n",
    "    print(\"cos(\", angle, \") is \", round(math.cos(angle_in_radian), 3), sep='')\n",
    "    print(\"tan(\", angle, \") is \", round(math.tan(angle_in_radian),3 ), sep='')\n"
   ]
  },
  {
   "cell_type": "markdown",
   "metadata": {},
   "source": [
    "Test the fucntion in the cell below. **Fill in any missing code, where applicable.**"
   ]
  },
  {
   "cell_type": "code",
   "execution_count": 10,
   "metadata": {},
   "outputs": [
    {
     "name": "stdin",
     "output_type": "stream",
     "text": [
      "Enter an angle in degrees:  60\n"
     ]
    },
    {
     "name": "stdout",
     "output_type": "stream",
     "text": [
      "sin(60.0) is 0.866\n",
      "cos(60.0) is 0.5\n",
      "tan(60.0) is 1.732\n"
     ]
    }
   ],
   "source": [
    "user_input = input(\"Enter an angle in degrees: \")\n",
    "angle  = float(user_input)\n",
    "trig_calc(angle)"
   ]
  },
  {
   "cell_type": "markdown",
   "metadata": {},
   "source": [
    "---"
   ]
  },
  {
   "cell_type": "markdown",
   "metadata": {},
   "source": [
    "# Question 5\n",
    "\n",
    "Write a function that takes a positive integer input less than 100,000 and returns an integer corresponding to the number of digits in the number. Use this function in a program that prompts the user for an integer and prints the number of digits in the user's input. All input and printing to the user should be **outside** the function. For example:\n",
    "```\n",
    "Please input a number less than 100,000:  1234\n",
    "You number has 4 digits.\n",
    "```\n",
    "\n",
    "**Note,**  try to solve this problem through multiple approaches:\n",
    "* Think about how to use string `str` function to approach it.\n",
    "* Also think about solving it mathematically by transforming the integer. Hint, the transformation function in question can be found in the [`math`](https://docs.python.org/3/library/math.html) module.\n",
    "* Don't use an if-statement (that is for next week). "
   ]
  },
  {
   "cell_type": "code",
   "execution_count": 11,
   "metadata": {},
   "outputs": [],
   "source": [
    "def count_digits_log(number):\n",
    "    '''\n",
    "    (int) -> int\n",
    "    Returns the number of digits in number. -1 is returned is the \n",
    "    number is greater than 99999\n",
    "    '''\n",
    "    return int(math.log(number, 10)) + 1 # Do you understand why this works?\n",
    "\n",
    "def count_digits_string(number):\n",
    "    '''\n",
    "    (int) -> int\n",
    "    Returns the number of digits in number. -1 is returned is the \n",
    "    number is greater than 99999\n",
    "    '''\n",
    "    return len(str(number)) # Do you understand why this works?"
   ]
  },
  {
   "cell_type": "markdown",
   "metadata": {},
   "source": [
    "Test the fucntion  in the cell below. **Fill in any missing code, where applicable.**"
   ]
  },
  {
   "cell_type": "code",
   "execution_count": 12,
   "metadata": {},
   "outputs": [
    {
     "name": "stdin",
     "output_type": "stream",
     "text": [
      "Please input a number less than 100,000:  1234\n"
     ]
    },
    {
     "name": "stdout",
     "output_type": "stream",
     "text": [
      "You number has 4 digits.\n",
      "You number has 4 digits.\n"
     ]
    }
   ],
   "source": [
    "user_input = input(\"Please input a number less than 100,000: \")\n",
    "num  = int(user_input)\n",
    "\n",
    "num_digits = count_digits_log(num)\n",
    "print(\"You number has\", num_digits, \"digits.\")\n",
    "num_digits = count_digits_string(num)\n",
    "print(\"You number has\", num_digits, \"digits.\")"
   ]
  }
 ],
 "metadata": {
  "kernelspec": {
   "display_name": "Python 3",
   "language": "python",
   "name": "python3"
  },
  "language_info": {
   "codemirror_mode": {
    "name": "ipython",
    "version": 3
   },
   "file_extension": ".py",
   "mimetype": "text/x-python",
   "name": "python",
   "nbconvert_exporter": "python",
   "pygments_lexer": "ipython3",
   "version": "3.8.5"
  }
 },
 "nbformat": 4,
 "nbformat_minor": 5
}
