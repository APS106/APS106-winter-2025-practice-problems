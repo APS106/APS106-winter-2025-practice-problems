{
 "cells": [
  {
   "cell_type": "markdown",
   "metadata": {},
   "source": [
    "# Week 2 Practice Problems\n"
   ]
  },
  {
   "cell_type": "markdown",
   "metadata": {},
   "source": [
    "## Question 1.\n",
    "\n",
    "Write a function that takes in a three-digit integer and returns the \"flipped\" version (that is, with its digits reversed). For example:\n",
    "```\n",
    "Enter a positive number less than 1000: 177\n",
    "That number flipped is 771\n",
    "```\n",
    "Your function should take the user-input integer as an argument and return the flipped integer. That means all your input and output with the user should be in your \"main\" code, not in the function.\n",
    "\n",
    "\n",
    "***Hint:***\n",
    "* Consider using the arithmetic operators `//` and `%` to solve this problem.\n",
    "* Make sure it works if the user enters a one- or two-digit integer. For example, 37 flipped is 730, and 8 flipped is 800.\n"
   ]
  },
  {
   "cell_type": "code",
   "execution_count": null,
   "metadata": {},
   "outputs": [],
   "source": [
    "def flip_number(input_number):\n",
    "    # Remember to write the docstring here. Make it a habit so that you don't lose point in the upcoming exams.\n",
    "    # Write you code here\n",
    "    \n",
    "    \n",
    "    \n",
    "    \n",
    "    "
   ]
  },
  {
   "cell_type": "markdown",
   "metadata": {},
   "source": [
    "Let's now test the function `flip_number` in the cell below. **Fill in any missing code, where applicable.**  \n",
    "\n",
    "***Note:*** Be careful of the variable type of the return from the `input` function."
   ]
  },
  {
   "cell_type": "code",
   "execution_count": null,
   "metadata": {},
   "outputs": [],
   "source": [
    "user_input = input(\"Enter a positive number less than 1000: \")\n",
    "result = flip_number( )\n",
    "print(result)"
   ]
  },
  {
   "cell_type": "markdown",
   "metadata": {},
   "source": [
    "---"
   ]
  },
  {
   "cell_type": "markdown",
   "metadata": {},
   "source": [
    "#  Question 2\n",
    "\n",
    "Write a function that takes in a positive integer and prints the minimum number of quarters, dimes, nickels, and pennies needed to make up that amount.  \n",
    "For example:\n",
    "```\n",
    "Enter a number of cents: 67\n",
    "2 quarter(s), 1 dime(s), 1 nickel(s), 2 penny(ies)\n",
    "```\n",
    "\n",
    "The prompt for the user should be outside the function but the printing should be **inside** the function.\n",
    "In case you are not familiar with Canadian currency: \n",
    "* a quarter is 25 cents\n",
    "* a dime is 10 cents\n",
    "* a nickel is 5 cents\n",
    "* a penny is 1 cent\n",
    "\n",
    "Use the minimum number of coins that you can by first maximizing the number of quarters, then the number of dimes, etc"
   ]
  },
  {
   "cell_type": "code",
   "execution_count": null,
   "metadata": {},
   "outputs": [],
   "source": [
    "def calc_change(num):\n",
    "    # Remember to write the docstring here. Make it a habit so that you don't lose point in the upcoming exams.\n",
    "    # Fill in the code below\n",
    "    "
   ]
  },
  {
   "cell_type": "markdown",
   "metadata": {},
   "source": [
    "Let's now test the function `calc_change` in the cell below. **Fill in any missing code, where applicable**"
   ]
  },
  {
   "cell_type": "code",
   "execution_count": null,
   "metadata": {},
   "outputs": [],
   "source": [
    "user_input = input(\"Enter a number of cents:\")\n",
    "num = \n",
    "calc_change(num)"
   ]
  },
  {
   "cell_type": "markdown",
   "metadata": {},
   "source": [
    "Now, let's slightly modify the function `calc_change` to make the printing occurs ***outside*** the function. Let's call this function `cal_change_alt`. "
   ]
  },
  {
   "cell_type": "code",
   "execution_count": null,
   "metadata": {},
   "outputs": [],
   "source": [
    "def cal_change_alt(num):\n",
    "    # Remember to write the docstring here. Make it a habit so that you don't lose point in the upcoming exams.\n",
    "    # Fill in the code below\n"
   ]
  },
  {
   "cell_type": "markdown",
   "metadata": {},
   "source": [
    "Test the fucntion `cal_change_alt` in the cell below. **Fill in any missing code, where applicable.**"
   ]
  },
  {
   "cell_type": "code",
   "execution_count": null,
   "metadata": {},
   "outputs": [],
   "source": [
    "user_input = input(\"Enter a number of cents:\")\n",
    "num = \n",
    "print(cal_change_alt(num))"
   ]
  },
  {
   "cell_type": "markdown",
   "metadata": {},
   "source": [
    "---"
   ]
  },
  {
   "cell_type": "markdown",
   "metadata": {},
   "source": [
    "# Question 3\n",
    " Write a function that takes floating-point number and then prints two values: the number truncated to the first decimal place and the number rounded to the first decimal place. For example:\n",
    "```\n",
    "Enter a number: 4.158\n",
    "Truncated to one decimal place: 4.1\n",
    "Rounded to one decimal place: 4.2\n",
    "```\n",
    "The prompt for the user should be **outside** the function but the printing should be inside the function\n",
    "\n",
    "**Hint:** For truncating, there are mutiple ways to achieve this. Think about using `int`, or alternatively, you can also think about using the [`math`](https://docs.python.org/3/library/math.html) module."
   ]
  },
  {
   "cell_type": "code",
   "execution_count": null,
   "metadata": {},
   "outputs": [],
   "source": [
    "def truncate_round(num):\n",
    "    # Remember to write the docstring here. Make it a habit so that you don't lose point in the upcoming exams.\n",
    "    # Fill in the code below\n",
    "    "
   ]
  },
  {
   "cell_type": "markdown",
   "metadata": {},
   "source": [
    "Test the fucntion  in the cell below. **Fill in any missing code, where applicable.**"
   ]
  },
  {
   "cell_type": "code",
   "execution_count": null,
   "metadata": {},
   "outputs": [],
   "source": [
    "user_input = input(\"Enter a number:\")\n",
    "num = \n",
    "truncate_round(num)"
   ]
  },
  {
   "cell_type": "markdown",
   "metadata": {},
   "source": [
    "---"
   ]
  },
  {
   "cell_type": "markdown",
   "metadata": {},
   "source": [
    "# Question 4\n",
    "\n",
    "Write a  trigonometry function. Ask a user for an angle, specified in **degrees**. Then print the sine, cosine, and tangent of that angle. Round to 3 decimal places. For example:\n",
    "```\n",
    "Enter an angle in degrees:  60\n",
    "sin(60.0) is 0.866\n",
    "cos(60.0) is 0.5\n",
    "tan(60.0) is 1.732\n",
    "```\n",
    "\n",
    "Printing should occur **inside** the function. You can use [`math`](https://docs.python.org/3/library/math.html) module, where applicable."
   ]
  },
  {
   "cell_type": "code",
   "execution_count": null,
   "metadata": {},
   "outputs": [],
   "source": [
    "def trig_calc(angle):\n",
    "    # Remember to write the docstring here. Make it a habit so that you don't lose point in the upcoming exams.\n",
    "    # Write you code here"
   ]
  },
  {
   "cell_type": "markdown",
   "metadata": {},
   "source": [
    "Test the fucntion in the cell below. **Fill in any missing code, where applicable.**"
   ]
  },
  {
   "cell_type": "code",
   "execution_count": null,
   "metadata": {},
   "outputs": [],
   "source": [
    "user_input = input(\"Enter an angle in degrees: \")\n",
    "angle  = \n",
    "trig_calc(angle)"
   ]
  },
  {
   "cell_type": "markdown",
   "metadata": {},
   "source": [
    "---"
   ]
  },
  {
   "cell_type": "markdown",
   "metadata": {},
   "source": [
    "# Question 5\n",
    "\n",
    "Write a function that takes a positive integer input less than 100,000 and returns an integer corresponding to the number of digits in the number. Use this function in a program that prompts the user for an integer and prints the number of digits in the user's input. All input and printing to the user should be **outside** the function. For example:\n",
    "```\n",
    "Please input a number less than 100,000:  1234\n",
    "You number has 4 digits.\n",
    "```\n",
    "\n",
    "**Note,**  try to solve this problem through multiple approaches:\n",
    "* Think about how to use string `str` function to approach it.\n",
    "* Also think about solving it mathematically by transforming the integer. Hint, the transformation function in question can be found in the [`math`](https://docs.python.org/3/library/math.html) module.\n",
    "* Don't use an if-statement (that is for next week). "
   ]
  },
  {
   "cell_type": "code",
   "execution_count": null,
   "metadata": {},
   "outputs": [],
   "source": [
    "def count_digits(num):\n",
    "    # Remember to write the docstring here. Make it a habit so that you don't lose point in the upcoming exams.\n",
    "    # Write you code here\n"
   ]
  },
  {
   "cell_type": "markdown",
   "metadata": {},
   "source": [
    "Test the fucntion  in the cell below. **Fill in any missing code, where applicable.**"
   ]
  },
  {
   "cell_type": "code",
   "execution_count": null,
   "metadata": {},
   "outputs": [],
   "source": [
    "user_input = input(\"Please input a number less than 100,000: \")\n",
    "num  = \n",
    "print(count_digits(num))"
   ]
  }
 ],
 "metadata": {
  "kernelspec": {
   "display_name": "Python 3",
   "language": "python",
   "name": "python3"
  },
  "language_info": {
   "codemirror_mode": {
    "name": "ipython",
    "version": 3
   },
   "file_extension": ".py",
   "mimetype": "text/x-python",
   "name": "python",
   "nbconvert_exporter": "python",
   "pygments_lexer": "ipython3",
   "version": "3.8.5"
  }
 },
 "nbformat": 4,
 "nbformat_minor": 5
}
