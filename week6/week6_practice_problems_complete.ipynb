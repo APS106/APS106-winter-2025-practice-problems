{
 "cells": [
  {
   "cell_type": "markdown",
   "metadata": {},
   "source": [
    "# Week 6\n",
    "This week covers:\n",
    "\n",
    "* Looping Through a String\n",
    "* Looping on the `range()` and Nested Loops"
   ]
  },
  {
   "cell_type": "markdown",
   "metadata": {},
   "source": [
    "## Question 1\n",
    "Question 1 of [Week 5](https://jupyter.utoronto.ca/hub/user-redirect/git-pull?repo=https%3A%2F%2Fgithub.com%2FAPS106%2FAPS106-winter-2025-practice-problems&urlpath=tree%2FAPS106-winter-2025-practice-problems%2Fweek5%2Fweek5_practice_problems_starter.ipynb&branch=master) asked you to swap cases of a string input and print the result. For example:\n",
    "```\n",
    "Please input a string with upper and lower case letters:  aBc\n",
    "AbC\n",
    "```\n",
    "Perhaps you used a `while` loop to solve that questions. For this question, slightly modify you code to use `for` loop instead.\n"
   ]
  },
  {
   "cell_type": "code",
   "execution_count": 1,
   "metadata": {},
   "outputs": [
    {
     "name": "stdin",
     "output_type": "stream",
     "text": [
      "Please input a string with upper and lower case letters:  aBc\n"
     ]
    },
    {
     "name": "stdout",
     "output_type": "stream",
     "text": [
      "AbC\n",
      "AbC\n",
      "AbC\n"
     ]
    }
   ],
   "source": [
    "\n",
    "#1 Read one string from the user. Then, swap cases and print the result. \n",
    "# In other words, convert all lowercase letters to uppercase letters and \n",
    "# vice versa. \n",
    "# You should solve this question twice.\n",
    "# a) There is a str method that will do this for you and so after the input \n",
    "#    just call it.\n",
    "# b) But a) is not much of an exercise, so you should also do it without \n",
    "#    calling that function!\n",
    "\n",
    "s = input(\"Please input a string with upper and lower case letters: \")\n",
    "\n",
    "# a. Do it with the str method swapcase\n",
    "swap_s = s.swapcase()\n",
    "print(swap_s)\n",
    "\n",
    "# b. Now do it \"by hand\" without calling swapcase\n",
    "swap_s = \"\"\n",
    "i = 0\n",
    "for ch in s:\n",
    "    if ch.islower():\n",
    "        new_ch = ch.upper()\n",
    "    else:\n",
    "        new_ch = ch.lower()\n",
    "        \n",
    "    swap_s += new_ch\n",
    "\n",
    "print(swap_s)\n",
    "\n",
    "# c. Now with no str methods\n",
    "swap_s = \"\"\n",
    "i = 0\n",
    "upper_to_lower_conversion = ord('A') - ord('a')\n",
    "for ch in s:\n",
    "\n",
    "    if ord('a') <= ord(ch) <= ord('z'):\n",
    "        new_ch = chr(ord(ch) + upper_to_lower_conversion)\n",
    "    elif ord('A') <= ord(ch) <= ord('Z'):\n",
    "        new_ch = chr(ord(ch) - upper_to_lower_conversion)\n",
    "    else:\n",
    "        new_ch = ch # not a letter\n",
    "                    # Why to I need an else case here but not above?\n",
    "        \n",
    "    swap_s += new_ch\n",
    "\n",
    "print(swap_s)\n",
    "\n"
   ]
  },
  {
   "cell_type": "markdown",
   "metadata": {},
   "source": [
    "## Question 2\n",
    "Question 2 of [Week 5](https://jupyter.utoronto.ca/hub/user-redirect/git-pull?repo=https%3A%2F%2Fgithub.com%2FAPS106%2FAPS106-winter-2025-practice-problems&urlpath=tree%2FAPS106-winter-2025-practice-problems%2Fweek5%2Fweek5_practice_problems_starter.ipynb&branch=master) asked you to remove exclamation and question marks from an input string. For example,\n",
    "\n",
    "* Input: `Hello!`, Output: `Hello`\n",
    "* Input: `How are you?`, Output: `How are you`\n",
    "\n",
    "For this question, slightly modify you code to use `for` loop instead."
   ]
  },
  {
   "cell_type": "code",
   "execution_count": 2,
   "metadata": {},
   "outputs": [
    {
     "name": "stdin",
     "output_type": "stream",
     "text": [
      "Please enter a string with question and exclamation marks in it:  Hello?\n"
     ]
    },
    {
     "name": "stdout",
     "output_type": "stream",
     "text": [
      "Hello\n"
     ]
    }
   ],
   "source": [
    "# Get one string from the user, remove all exclamation and question marks \n",
    "# from it, and output the resulting string. \n",
    "# Do not use any special string methods.\n",
    "\n",
    "s = input(\"Please enter a string with question and exclamation marks in it: \")\n",
    "\n",
    "new_s = \"\"\n",
    "for c in s:\n",
    "    if c != \"!\" and c != \"?\":\n",
    "        new_s += c\n",
    "        \n",
    "print(new_s)\n"
   ]
  },
  {
   "cell_type": "markdown",
   "metadata": {},
   "source": [
    "## Question 3\n",
    "\n",
    "You are given two pieces of data:\n",
    "1. A string `s` of length $n$.\n",
    "2. An integer $k$, where $k$ is a factor of $n$.\n",
    "\n",
    "Because $n$ is divisible by $k$, we can split string `s` into $\\frac{n}{k}$ sub-strings where each segment consists of a contiguous block of $k$ characters. \n",
    "\n",
    "Write a program that gets the user to enter a string and an integer $k$ and prints the segments in order but have the characters in each segment reversed and separate the segments by space. Example: \n",
    "```\n",
    "Please enter the string: University\n",
    "Please enter k: 2\n",
    "nU vi re is yt\n",
    "```\n",
    "\n",
    "```\n",
    "Please enter the string: Hello!\n",
    "Please enter k: 3\n",
    "leH !ol \n",
    "```\n",
    "It is a good idea to check if $k$ does indeed divide $n$ evenly. If it doesn't print an error message and exit. If it does, do the splitting and reversing as described above.\n",
    "\n",
    "*Hint:* Break the problem into three steps: 1. Get the input and check. 2. Break the string into $\\frac{n}{k}$ substrings. 3. Reverse each sub-string and print it. You might find the `range()` function helpful. You should write at least one function to do this. \n",
    "\n",
    "*Another hint:* The main algorithm for doing this (e.g. after the input, etc) is only a few lines of string manipulation.\n",
    "\n"
   ]
  },
  {
   "cell_type": "code",
   "execution_count": 3,
   "metadata": {},
   "outputs": [
    {
     "name": "stdin",
     "output_type": "stream",
     "text": [
      "Please enter the string:  University\n",
      "Please enter k:  2\n"
     ]
    },
    {
     "name": "stdout",
     "output_type": "stream",
     "text": [
      "nU vi re is yt \n"
     ]
    }
   ],
   "source": [
    "# Write a program that gets the user to enter a string and an integer k \n",
    "# such that the length of the string is a multiple of k.\n",
    "# Chop the string into segments of length k, then print the segments in order\n",
    "# (separated by a space) with the characters in each \n",
    "# segment reversed.\n",
    "#\n",
    "# Example\n",
    "# Please enter the string: University\n",
    "# Please enter k: 2\n",
    "# nU vi re is yt\n",
    "\n",
    "\n",
    "s = input(\"Please enter the string: \")\n",
    "k = int(input(\"Please enter k: \"))\n",
    "\n",
    "# check if k is a factor on n and exit with an error if not\n",
    "n = len(s)\n",
    "if n % k != 0:\n",
    "    print(k, \"does not divide evenly into the string length,\", n,)\n",
    "else:\n",
    "    for i in range(0,n,k):\n",
    "        # can you do the below all in one line?\n",
    "        substr = s[i:i+k]\n",
    "        rev_substr = substr[::-1]\n",
    "        print(rev_substr, end = \" \")\n",
    "    print()\n",
    "\n"
   ]
  },
  {
   "cell_type": "markdown",
   "metadata": {},
   "source": [
    "## Question 4\n",
    "Write a function that takes in a string of any length as a parameter and prints out a table that specifies the number of times each vowel (a,e,i,o,u) appears. Your function should take be able to identify a vowel whether it is upper or lower-case.\n",
    "\n",
    "1. Write the function using the `count()` method.\n",
    "2. Write the function without using the `count()` method. (Hint: nested loop)\n"
   ]
  },
  {
   "cell_type": "code",
   "execution_count": 4,
   "metadata": {},
   "outputs": [
    {
     "name": "stdout",
     "output_type": "stream",
     "text": [
      "Vowel\tOccurences\n",
      "a \t 4\n",
      "e \t 6\n",
      "i \t 4\n",
      "o \t 2\n",
      "u \t 0\n",
      "Vowel\tOccurences\n",
      "a \t 4\n",
      "e \t 6\n",
      "i \t 4\n",
      "o \t 2\n",
      "u \t 0\n"
     ]
    }
   ],
   "source": [
    "\n",
    "def count_vowels_count(s):\n",
    "    '''\n",
    "    (str) -> NoneType\n",
    "    Print a table of the count of the number of times each vowel appears in s\n",
    "    '''\n",
    "    print(\"Vowel\\tOccurences\")\n",
    "    vowels = \"aeiou\"\n",
    "    s = s.lower()\n",
    "    \n",
    "    for v in vowels:\n",
    "        v_count = s.count(v)\n",
    "        print(v,\"\\t\",v_count)\n",
    "\n",
    "def count_vowels_no_count(s):\n",
    "    '''\n",
    "    (str) -> NoneType\n",
    "    Print a table of the count of the number of times each vowel appears in s\n",
    "    '''\n",
    "    print(\"Vowel\\tOccurences\")\n",
    "    vowels = \"aeiou\"\n",
    "    s = s.lower()\n",
    "    \n",
    "    for v in vowels:\n",
    "        v_count = 0\n",
    "        for ch in s:\n",
    "            v_count += (ch == v)\n",
    "            \n",
    "        print(v,\"\\t\",v_count)\n",
    "\n",
    "count_vowels_count(\"This is the time that all good children are aslEEp.\")\n",
    "count_vowels_no_count(\"This is the time that all good children are aslEEp.\")"
   ]
  },
  {
   "cell_type": "markdown",
   "metadata": {},
   "source": [
    "## Question 5\n",
    "Question 5 of [Week 5](https://jupyter.utoronto.ca/hub/user-redirect/git-pull?repo=https%3A%2F%2Fgithub.com%2FAPS106%2FAPS106-winter-2025-practice-problems&urlpath=tree%2FAPS106-winter-2025-practice-problems%2Fweek5%2Fweek5_practice_problems_starter.ipynb&branch=master) asked you to write a function that takes in a DNA strand and produces its matching counterpart in a double helix. Again, here are two paired strands as an example:\n",
    "\n",
    "    ATGGGCAATCGATGGCCTAATCTCTCTAAG\n",
    "    TACCCGTTAGCTACCGGATTAGAGAGATTC\n",
    "Modify what you did in week 5 but this time use a loop rather than string methods."
   ]
  },
  {
   "cell_type": "code",
   "execution_count": 5,
   "metadata": {},
   "outputs": [
    {
     "name": "stdout",
     "output_type": "stream",
     "text": [
      "ATGGGCAATCGATGGCCTAATCTCTCTAAG\n",
      "TACCCGTTAGCTACCGGATTAGAGAGATTC\n"
     ]
    }
   ],
   "source": [
    "# Write a function that takes in a DNA strand and produces its \n",
    "# matching counterpart in a double helix. \n",
    "#      A <-> T\n",
    "#      C <-> G\n",
    "\n",
    "    \n",
    "def duplicate_DNA_strand(dna):\n",
    "    '''\n",
    "    (string) -> string\n",
    "    Takes in a string of nucleotide letters (ATGC)\n",
    "    and returns the matching DNA where:\n",
    "      A <-> T\n",
    "      C <-> G\n",
    "    '''\n",
    "    matching_dna = \"\"\n",
    "    for ch in dna:\n",
    "        if ch == \"A\":\n",
    "            matching_dna += \"T\"\n",
    "        elif ch == \"T\":\n",
    "            matching_dna += \"A\"\n",
    "        if ch == \"C\":\n",
    "            matching_dna += \"G\"\n",
    "        elif ch == \"G\":\n",
    "            matching_dna += \"C\"\n",
    "\n",
    "    return matching_dna\n",
    "\n",
    "chrome_4 = \"ATGGGCAATCGATGGCCTAATCTCTCTAAG\"\n",
    "print(chrome_4,duplicate_DNA_strand(chrome_4),sep=\"\\n\")\n",
    "\n",
    "     "
   ]
  },
  {
   "cell_type": "code",
   "execution_count": null,
   "metadata": {},
   "outputs": [],
   "source": []
  }
 ],
 "metadata": {
  "kernelspec": {
   "display_name": "Python 3",
   "language": "python",
   "name": "python3"
  },
  "language_info": {
   "codemirror_mode": {
    "name": "ipython",
    "version": 3
   },
   "file_extension": ".py",
   "mimetype": "text/x-python",
   "name": "python",
   "nbconvert_exporter": "python",
   "pygments_lexer": "ipython3",
   "version": "3.8.5"
  }
 },
 "nbformat": 4,
 "nbformat_minor": 4
}
