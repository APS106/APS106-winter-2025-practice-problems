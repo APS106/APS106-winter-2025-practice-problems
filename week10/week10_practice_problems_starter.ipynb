{
 "cells": [
  {
   "cell_type": "markdown",
   "metadata": {},
   "source": [
    "# Week 10\n",
    "Object-oriented programming is this week's topic."
   ]
  },
  {
   "cell_type": "markdown",
   "metadata": {},
   "source": [
    "## Question 1\n",
    "Create a `CashRegister` class with the following functionality.\n",
    "* create an object by passing in the initial cash that the register starts with in terms of the number of loonies, toonies, fives, tens, and twenties\n",
    "* print the contents of the register\n",
    "* calculate and return the value of the contents of the register\n",
    "* add some cash (specify the number of loonies, toonies, etc.)\n",
    "* remove some cash: enter the dollar amount to remove, calculate the number of loonies, toonies, etc. that you need to remove, and decrement these values from the register.\n",
    "\n",
    "Hint: remember [week 3](https://jupyter.utoronto.ca/hub/user-redirect/git-pull?repo=https%3A%2F%2Fgithub.com%2FAPS106%2FAPS106-winter-2025-practice-problems&urlpath=tree%2FAPS106-winter-2025-practice-problems%2Fweek3%2Fweek3_practice_problems_starter.ipynb&branch=master)?"
   ]
  },
  {
   "cell_type": "code",
   "execution_count": null,
   "metadata": {},
   "outputs": [],
   "source": []
  },
  {
   "cell_type": "markdown",
   "metadata": {},
   "source": [
    "## Question 2\n",
    "How did you implement the **storage of the data** inside `CashRegister` in Q1?  \n",
    "Reimplement the class (call it `CashRegister2`) with a different way of storing the data inside (e.g. use dictionary vs individual attributes). Note that all the code that you wrote to use `CashRegister` from outside the class should not have to change. Compare the implementation of `CashRegister` with `CashRegister2`, think about the pros and cons of each implementation."
   ]
  },
  {
   "cell_type": "code",
   "execution_count": null,
   "metadata": {},
   "outputs": [],
   "source": []
  },
  {
   "cell_type": "markdown",
   "metadata": {},
   "source": [
    "## Question 3\n",
    "Extend the `CashRegister` class from Q1 and Q2 by adding a method called `make_purchase` with the parameters: the cost of the item purchased and the number of 20s, 10s, 5s, toonies, and loonies given by the purchaser. The method should:\n",
    "* add the cash to itself\n",
    "* calculate the change that is due\n",
    "* calculate what combination of 20s, 10s, 5s, toonies, and loonies will be used to make up the change\n",
    "* remove the cash from itself\n",
    "\n",
    "Some of this functionality should re-use methods you already wrote. You may want to revisit and change the code you already wrote to make it more convenient to implement `make_purchase`. (This is called \"refactoring\" and it happens all the time. That is, due to new functionality, you realize you can redesign the code you already have to make the new functionality easier to implement without breaking the old functionality)."
   ]
  },
  {
   "cell_type": "code",
   "execution_count": null,
   "metadata": {},
   "outputs": [],
   "source": []
  },
  {
   "cell_type": "markdown",
   "metadata": {},
   "source": [
    "## Question 4\n",
    "\n",
    "You are given a one-dimensional representation of a world with landmarks represented by patterns of black and white (see diagram below). You can assume that you\n",
    "have a map of the world in the form of a list where each entry is \"black\" or \"white\". For example, for the picture above the map is:\n",
    "\n",
    "    ['black','white','white','black','white','black','black','black','white']\n",
    "    \n",
    "![](fig.jpg)\n",
    "\n",
    "A robot (or autonomous vehicle) starts out at some location indicated by the index into the map (e.g., if the location was 2 it would correspond to the third entry in the list). The robot, however, **doesn’t know the index that it is at**. The robot can do three main things:\n",
    "* move one location to the right\n",
    "* sense the color of its current location\n",
    "* localize: determine the locations it could be in based on all the sensor readings it has taken\n",
    "You need to write code for all of this but mostly for the robot to figure out where it is.\n",
    "To make things simpler, assume:\n",
    "* the user chooses the starting location of the robot (but doesn’t tell the robot)\n",
    "* the robot prompts the user for the sensor readings. That is, the user has perfect knowledge: he/she knows where the robot is and can always provide an accurate sensor reading.\n",
    "* If the robot moves right from the last location, it wraps around to the first location (i.e. the world is not flat, it is circular)\n",
    "\n",
    "Write your solutions as an object-oriented program.  \n",
    "\n",
    "For example, let's say the robot is at index 0 in the above map.\n",
    "\n",
    "Map: \n",
    "\n",
    "    ['black','white','white','black','white','black','black' ,'black','white']\n",
    "\n",
    "Robot position: 0\n",
    "\n",
    "The robot is at location 0 (but doesn’t know it). Here is how you might go about solving the problem:\n",
    "*  Use your sensor (i.e., ask the user for the color). It measures 'black' and so you know that you must be at one of the black locations {0, 3, 5, 6, 7}.\n",
    "* Move (and so the robot is really at 1 but doesn’t know it) and then user your sensor. It measures ‘white’. What are the possible locations that the robot can be at? There are only 3 consecutive locations that have the pattern `['black','white']` so the robot must now be at one of {1, 4, 8}. Remember that the robot has moved!\n",
    "* Keep going until the robot can figure out where it is. Remember that since the robot is moving, you want to figure out where it is now – which is not the same place it started."
   ]
  },
  {
   "cell_type": "code",
   "execution_count": null,
   "metadata": {},
   "outputs": [],
   "source": []
  },
  {
   "cell_type": "markdown",
   "metadata": {},
   "source": [
    "## Question 5\n",
    "One method of estimating $\\pi$ is to use Monte Carlo simulation as follows.\n",
    "\n",
    "Place a circle with radius, $r$, inside a square with sides of length $2r$. The area of the circle is $\\pi r^2$ and the area of the square is $(2r)^2$. Therefore, the ratio of the area of the circle to that of the square is $\\frac{\\pi}{4}$. If you randomly choose $n$ points inside the square, approximately $\\frac{n\\cdot \\pi}{4}$ of them will be inside the circle. So by counting the number of points inside the square but outside the circle compared to the number of points inside both the square and the circle, you can estimate $\\pi$: let $m$ be the number of points inside the circle. $\\pi$ can then be estimated as $\\frac{4\\cdot m}{n}$.\n",
    "\n",
    "Write a program that estimates $\\pi$ by randomly picking points inside the square and testing if they are inside the circle.\n",
    "\n",
    "To do this, you should create an object-oriented program with three classes:\n",
    "* `Point`\n",
    "* `Square` (implemented using `Point`)\n",
    "* `Circle` (also implemented using `Point` – how?)\n",
    "\n",
    "\n",
    "To implement the estimate, `Square` should have a method called `generate_random_point` that returns a random `Point` inside the `Square`. `Circle` should have a method called `check_inside` which takes a Point and returns `True`/`False` depending on whether the point is inside the `Circle` or not. "
   ]
  },
  {
   "cell_type": "code",
   "execution_count": null,
   "metadata": {},
   "outputs": [],
   "source": []
  },
  {
   "cell_type": "markdown",
   "metadata": {},
   "source": [
    "## Question 6\n",
    "\n",
    "**Note**: you will probably need to complete this question in your preferred Python IDE instead of Juputer Notebook, as `Turtle` will likely not work here at all.\n",
    "\n",
    "You have seen `Turtle` in the lectures. Extend your code for Q5 by using a `Turtle` class to illustrate the algorithm. Add a `draw` method to each of the classes in Q5. The method should take a `Turtle` as an argument and use the Turtle to draw itself. Your program should first draw the square and the circle and then every point as it is generated. (Hint: see the `dot()` method of the `Turtle` class).\n",
    "\n",
    "Hint #1: You've seen examples of `Turtle` in lectures. Go back to it and see if it can help you.\n",
    "\n",
    "Hint #2: You will need to do some work to figure out the parameters and meaning of the `Turtle` methods. In particular, the `circle` method is a bit tricky.\n",
    "\n",
    "Hint #3: The animation with the turtle slows things down a lot – even at the turtle's top speed. You may want to ask the user if they want the animation turned on or not and do the right thing depending on their answer.\n",
    "\n",
    "Bonus #1: Color the points inside the circle differently from the points outside the circle.\n",
    "\n",
    "Bonus #2: Every time you generate a point, update the estimate of $\\pi$ and have the `Turtle` display it. "
   ]
  }
 ],
 "metadata": {
  "kernelspec": {
   "display_name": "Python 3",
   "language": "python",
   "name": "python3"
  },
  "language_info": {
   "codemirror_mode": {
    "name": "ipython",
    "version": 3
   },
   "file_extension": ".py",
   "mimetype": "text/x-python",
   "name": "python",
   "nbconvert_exporter": "python",
   "pygments_lexer": "ipython3",
   "version": "3.8.5"
  }
 },
 "nbformat": 4,
 "nbformat_minor": 4
}
