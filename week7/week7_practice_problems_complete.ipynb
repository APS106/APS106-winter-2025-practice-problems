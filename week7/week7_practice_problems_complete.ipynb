{
 "cells": [
  {
   "cell_type": "markdown",
   "metadata": {},
   "source": [
    "# Week 7\n",
    "This week's topic:\n",
    "* Lists: indexing and slicing\n",
    "* Lists: nested lists and looping"
   ]
  },
  {
   "cell_type": "markdown",
   "metadata": {},
   "source": [
    "## Q1\n",
    "Write a function that takes an integer, `n`, as a parameter and returns a sorted list of n random integers from 0 to 999. As usual there are a few ways to do this. Explore the functions available to you in the [`random`](https://docs.python.org/3/library/random.html) module and the use of the [`sort()`](https://docs.python.org/3/howto/sorting.html) function for lists.\n",
    "\n",
    "**Bouns question:** Can you sort a list without using the `sort()` method? You will need to use loop for this.  You can find some ideas by referring to [this wiki page](https://en.wikipedia.org/wiki/Bubble_sort).\n"
   ]
  },
  {
   "cell_type": "code",
   "execution_count": 6,
   "metadata": {},
   "outputs": [
    {
     "name": "stdout",
     "output_type": "stream",
     "text": [
      "[152, 240, 304, 363, 368, 411, 489, 641, 917, 978]\n",
      "[124, 128, 168, 188, 235, 378, 483, 512, 569, 620, 623, 676, 733, 736, 765, 774, 808, 814, 896, 996]\n",
      "[82, 161, 186, 311, 449, 533, 596, 794, 877, 887]\n",
      "[24, 28, 47, 171, 179, 207, 289, 290, 347, 393, 417, 446, 561, 633, 666, 677, 849, 933, 940, 951]\n",
      "[139, 234, 312, 315, 390, 524, 694, 723, 848, 883]\n",
      "[32, 53, 55, 102, 124, 270, 275, 291, 347, 381, 410, 505, 540, 593, 614, 764, 812, 947, 952, 956]\n"
     ]
    }
   ],
   "source": [
    "# Write a function that takes an integer, n, as a parameter and returns a \n",
    "# sorted list of n random integers. \n",
    "\n",
    "import random\n",
    "\n",
    "# If you found the random.sample function, this is the easiest way\n",
    "def gen_sorted_list_sample(n):\n",
    "    '''\n",
    "    (int) -> list of int\n",
    "    Return a sorted list of n random integers\n",
    "    '''\n",
    "    rand_list = random.sample(range(1000), n)\n",
    "    rand_list.sort()\n",
    "    return rand_list\n",
    "\n",
    "# If you found the random.range function, this is the easiest way\n",
    "def gen_sorted_list_range(n):\n",
    "    '''\n",
    "    (int) -> list of int\n",
    "    Return a sorted list of n random integers\n",
    "    '''\n",
    "    rand_list = []\n",
    "    for i in range(n):\n",
    "        rand_list += [random.randrange(0,1000)]\n",
    "    rand_list.sort()\n",
    "    return rand_list\n",
    "\n",
    "def gen_sorted_list_sample_with_bubble_sort(n):\n",
    "    '''\n",
    "    (int) -> list of int\n",
    "    Return a sorted list of n random integers\n",
    "    '''\n",
    "    rand_list = random.sample(range(1000), n)\n",
    "    \n",
    "    swapped = True # Initialize swapped to track if any swaps occur\n",
    "    while swapped:\n",
    "        swapped = False # Reset the swapped before doing anything\n",
    "        for n in range(len(rand_list) - 1, 0, -1):\n",
    "            # Inner loop to compare adjacent elements\n",
    "            for i in range(n):\n",
    "                if rand_list[i] > rand_list[i + 1]:\n",
    "\n",
    "                    # Swap elements if they are in the wrong order\n",
    "                    rand_list[i], rand_list[i + 1] = rand_list[i + 1], rand_list[i]\n",
    "\n",
    "                    # Mark that a swap has occurred\n",
    "                    swapped = True\n",
    "                    \n",
    "    return rand_list\n",
    "\n",
    "\n",
    "print(gen_sorted_list_sample(10))\n",
    "print(gen_sorted_list_sample(20))\n",
    "\n",
    "print(gen_sorted_list_range(10))\n",
    "print(gen_sorted_list_range(20))\n",
    "\n",
    "print(gen_sorted_list_sample_with_bubble_sort(10))\n",
    "print(gen_sorted_list_sample_with_bubble_sort(20))\n"
   ]
  },
  {
   "cell_type": "markdown",
   "metadata": {},
   "source": [
    "## Q2\n",
    "Write a function that takes a **sorted** list of integers (see Q1) and returns the median. If the list has odd length, the median is the middle number. If the list is even length, the median is the mean of the two middle numbers. Therefore, Your function should work with odd and even lists. Hint: If the list is already sorted, you do not need a loop!"
   ]
  },
  {
   "cell_type": "code",
   "execution_count": 7,
   "metadata": {},
   "outputs": [
    {
     "name": "stdout",
     "output_type": "stream",
     "text": [
      "[27, 54, 275, 548, 575, 782, 789, 792, 870, 911]\n",
      "678.5\n",
      "[72, 121, 354, 664, 666, 696, 810, 915, 977, 979, 988]\n",
      "696\n"
     ]
    }
   ],
   "source": [
    "def get_median(num_list):\n",
    "    '''\n",
    "    (list of num) -> num\n",
    "    Returns the median entry in the sorted list num_list\n",
    "    '''\n",
    "    mid_pt = len(num_list)//2\n",
    "    #print(mid_pt)\n",
    "    if len(num_list) % 2 == 0:   \n",
    "        return (num_list[mid_pt-1] + num_list[mid_pt]) /2\n",
    "    \n",
    "    return num_list[mid_pt] # why do I not need an else here?\n",
    "\n",
    "list1 = gen_sorted_list_sample(10) # This is the function we wrote in Q1\n",
    "list2 = gen_sorted_list_sample(11) # This is the function we wrote in Q1\n",
    "\n",
    "print(list1,get_median(list1),sep=\"\\n\")\n",
    "print(list2,get_median(list2),sep=\"\\n\")\n"
   ]
  },
  {
   "cell_type": "markdown",
   "metadata": {},
   "source": [
    "## Q3 \n",
    "Write a function that takes a **sorted** list of integers (see Q1) and returns a list with 5 elements: the minimum number, the maximum number, the median number (use the function from Q2), the arithmetic average, and the geometric average. The arithmetic average is the usual mean value that you are used to. The geometric average of n numbers is found by multiplying them all together and then taking the n<sup>th</sup> root.\n",
    "\n",
    "Note that for the minimum and maximum you should not use min() or max() function or a loop (think about why not). For the average you could use the sum() function. But for the geometric average you are going to need to use a loop and some mathy stuff"
   ]
  },
  {
   "cell_type": "code",
   "execution_count": 8,
   "metadata": {},
   "outputs": [
    {
     "name": "stdout",
     "output_type": "stream",
     "text": [
      "[18, 180, 253, 443, 487, 502, 503, 524, 752, 775]\n",
      "[18, 775, 494.5, 443.7, 326.1910758181348]\n",
      "[49, 51, 68, 106, 139, 268, 431, 539, 777, 915, 985]\n",
      "[49, 985, 268, 393.45454545454544, 232.86151996463659]\n"
     ]
    }
   ],
   "source": [
    "def get_stats(num_list):\n",
    "    '''\n",
    "    (list of int) -> list of int\n",
    "    Given a sorted list of integers, return a list of 5 elements:\n",
    "    [min value, max value, median, average, geometric mean]\n",
    "    '''\n",
    "    stat_list = [num_list[0], num_list[-1], \n",
    "                 get_median(num_list), sum(num_list)/len(num_list)]\n",
    "    \n",
    "    product = 1\n",
    "    for num in num_list:\n",
    "        product *= num\n",
    "        \n",
    "    stat_list += [product**(1/len(num_list))]\n",
    "    \n",
    "    return stat_list\n",
    "\n",
    "list1 = gen_sorted_list_sample(10)\n",
    "list2 = gen_sorted_list_sample(11)\n",
    "\n",
    "print(list1,get_stats(list1),sep=\"\\n\")\n",
    "print(list2,get_stats(list2),sep=\"\\n\")"
   ]
  },
  {
   "cell_type": "markdown",
   "metadata": {},
   "source": [
    "## Q4\n",
    "\n",
    "This is a variation of Q3 from [Week 6](https://jupyter.utoronto.ca/hub/user-redirect/git-pull?repo=https%3A%2F%2Fgithub.com%2FAPS106%2FAPS106-winter-2025-practice-problems&urlpath=tree%2FAPS106-winter-2025-practice-problems%2Fweek6%2Fweek6_practice_problems_starter.ipynb&branch=master). Reuse as much code as you can. Note that the difference is that you need to not only reverse the characters within each segment but also reverse the order in which you print out the segments. To do so, you probably need to use a list.\n",
    "\n",
    "You are given two pieces of data:\n",
    "1. A string `s` of length $n$.\n",
    "2. An integer $k$, where $k$ is a factor of $n$.\n",
    "\n",
    "Because $n$ is divisible by $k$, we can split string `s` into $\\frac{n}{k}$ sub-strings where each segment consists of a contiguous block of $k$ characters. \n",
    "\n",
    "Write a program that gets the user to enter a string and an integer $k$ and prints the segments in the **reversed order** and **also the characters in each segment reversed**. Separate the segments by space. Example: \n",
    "\n",
    "    Please enter the string: University\n",
    "    Please enter k: 2\n",
    "    yt is re vi nU\n",
    "\n",
    "    Please enter the string: Hello!\n",
    "    Please enter k: 3\n",
    "    !ol leH \n",
    "\n",
    "* Break the problem into three steps: 1. Get the input. 2. Break the string into $\\frac{n}{k}$ substrings. 3. Reverse each sub-string. You should write at least one function to do this. \n",
    "* Looking at the examples above may give you an idea about how to solve this problem in a much easier way. What if you first reverse the whole string (you solved this problem just above for substrings) and then cleverly output it including some spaces?\n"
   ]
  },
  {
   "cell_type": "code",
   "execution_count": 12,
   "metadata": {},
   "outputs": [
    {
     "name": "stdin",
     "output_type": "stream",
     "text": [
      "Please enter the string:  University\n",
      "Please enter k:  2\n"
     ]
    },
    {
     "name": "stdout",
     "output_type": "stream",
     "text": [
      "yt is re vi nU "
     ]
    }
   ],
   "source": [
    "## Version 1\n",
    "s = input(\"Please enter the string: \")\n",
    "k = int(input(\"Please enter k: \"))\n",
    "\n",
    "# check if k is a factor on n and exit with an error if not\n",
    "n = len(s)\n",
    "if n % k != 0:\n",
    "    print(k, \"does not divide evenly into the string length,\", n,)\n",
    "else:\n",
    "    rev_s = s[::-1]\n",
    "    for i in range(0,n,k):\n",
    "        print(rev_s[i:i+k],end=\" \")\n"
   ]
  },
  {
   "cell_type": "code",
   "execution_count": 14,
   "metadata": {},
   "outputs": [
    {
     "name": "stdin",
     "output_type": "stream",
     "text": [
      "Please enter the string:  University\n",
      "Please enter k:  2\n"
     ]
    },
    {
     "name": "stdout",
     "output_type": "stream",
     "text": [
      "yt is re vi nU "
     ]
    }
   ],
   "source": [
    "# Version 2\n",
    "def chop_up_string(s,k):\n",
    "    ''' (str, int) -> list\n",
    "    Returns a list of substrings of s of length k. Assumes that len(s)/k is\n",
    "    an integer\n",
    "    '''\n",
    "    substrings = []\n",
    "    for i in range(0,n,k):\n",
    "        substr = s[i:i+k]\n",
    "        substrings.append(substr)\n",
    "\n",
    "    return substrings\n",
    "\n",
    "s = input(\"Please enter the string: \")\n",
    "k = int(input(\"Please enter k: \"))\n",
    "\n",
    "# check if k is a factor on n and exit with an error if not\n",
    "n = len(s)\n",
    "if n % k != 0:\n",
    "    print(k, \"does not divide evenly into the string length,\", n,)\n",
    "else:\n",
    "    substrings = chop_up_string(s, k)\n",
    "\n",
    "    # reverse list since we need to print the substrings in reverse order\n",
    "\n",
    "    for sub_str in reversed(substrings):\n",
    "        # print each substring reversed\n",
    "        print(sub_str[::-1], end=\" \")\n"
   ]
  },
  {
   "cell_type": "markdown",
   "metadata": {},
   "source": [
    "## Q5\n",
    "\n",
    "Create a small database of marks using *nested* lists and the following information. You can hard-code it in your program.\n",
    "\n",
    "|Name|Grades|\n",
    "| -------- | ------- |\n",
    "|Mohamed|A, A+, C, FZ, B-|\n",
    "|Cindy|B, B, C, A, B|\n",
    "|Mustafa|A, A+, A+, C, C|\n",
    "|Stefan|FZ, B, B, C, C|\n",
    "\n",
    "Write a function that takes the database and a grade as arguments and returns a list of the names of the students who got that grade in any course.\n"
   ]
  },
  {
   "cell_type": "code",
   "execution_count": 11,
   "metadata": {},
   "outputs": [
    {
     "name": "stdout",
     "output_type": "stream",
     "text": [
      "['Mohamed', 'Mustafa']\n",
      "['Mohamed', 'Cindy', 'Mustafa']\n",
      "['Mohamed', 'Stefan']\n",
      "\n",
      "['Mohamed', 'Mustafa']\n",
      "['Mohamed', 'Cindy', 'Mustafa']\n",
      "['Mohamed', 'Stefan']\n",
      "\n",
      "['Mohamed', 'Mustafa']\n",
      "['Mohamed', 'Cindy', 'Mustafa']\n",
      "['Mohamed', 'Stefan']\n",
      "\n",
      "['Mohamed', 'Mustafa']\n",
      "['Mohamed', 'Cindy', 'Mustafa']\n",
      "['Mohamed', 'Stefan']\n"
     ]
    }
   ],
   "source": [
    "marks = [[\"Mohamed\", [\"A\", \"A+\", \"C\", \"FZ\", \"B-\"]],\n",
    "         [\"Cindy\", [\"B\", \"B\", \"C\", \"A\", \"B\"]],\n",
    "         [\"Mustafa\", [\"A\", \"A+\", \"A+\", \"C\", \"C\"]],\n",
    "         [\"Stefan\", [\"FZ\", \"B\", \"B\", \"C\", \"C\"]]]\n",
    "\n",
    "def find_students_with_grade(all_marks, grade):\n",
    "    ''' (list, str) -> list\n",
    "    Returns a list of students who received a mark equal to grade \n",
    "    in any course.\n",
    "    '''\n",
    "    students_with_grade = []\n",
    "    for record in all_marks:\n",
    "        if grade in record[1]:\n",
    "            students_with_grade.append(record[0])\n",
    "    \n",
    "    return students_with_grade\n",
    "\n",
    "# The 'in' operator in the if-statement above is particularly useful here.\n",
    "# Many computer lanaguages cannot do this however and so you need to\n",
    "# loop over each element of the marks list explicitly. Here's a way to do\n",
    "# it without the in-operator in the if-statement\n",
    "def find_students_with_grade_nested(all_marks, grade):\n",
    "    ''' (list, str) -> list\n",
    "    Returns a list of students who received a mark equal to grade \n",
    "    in any course.\n",
    "    '''\n",
    "    students_with_grade = []\n",
    "    for record in all_marks:\n",
    "        name = record[0]\n",
    "        for mark in record[1]:\n",
    "            if mark == grade and name not in students_with_grade:    \n",
    "                students_with_grade.append(record[0])\n",
    "    \n",
    "    return students_with_grade\n",
    "\n",
    "# The implementation above is a bit unsatisfactory since even after we've\n",
    "# identified a student to be added to the list, we keep looping through\n",
    "# his/her other marks. Why not just stop the 'for mark in record[1]' loop\n",
    "# as soon as we find a matching mark?\n",
    "#\n",
    "# Here are two ways to do this.\n",
    "\n",
    "def find_students_with_grade_break(all_marks, grade):\n",
    "    ''' (list, str) -> list\n",
    "    Returns a list of students who received a mark equal to grade \n",
    "    in any course.\n",
    "    '''\n",
    "    students_with_grade = []\n",
    "    for record in all_marks:\n",
    "        name = record[0]\n",
    "        for mark in record[1]:\n",
    "            if mark == grade:    \n",
    "                students_with_grade.append(record[0])\n",
    "                break     # jump out of the inner-most loop\n",
    "            \n",
    "    return students_with_grade\n",
    "\n",
    "# Some programmers (like Prof Beck) don't like break because it \"jumps out\"\n",
    "# of a loop and so the flow of the program is less structured and (slightly)\n",
    "# worse. In this case, however, using break (as above) probably leads to \n",
    "# simpler code. \n",
    "\n",
    "# Here is a way to do it without break - using a while loop \n",
    "def find_students_with_grade_while(all_marks, grade):\n",
    "    ''' (list, str) -> list\n",
    "    Returns a list of students who received a mark equal to grade \n",
    "    in any course.\n",
    "    '''\n",
    "    students_with_grade = []\n",
    "    for record in all_marks:\n",
    "        name = record[0]\n",
    "        i = 0\n",
    "        student_found = False\n",
    "        while not student_found and i < len(record[1]):\n",
    "            if record[1][i] == grade:    \n",
    "                students_with_grade.append(record[0])\n",
    "                student_found = True\n",
    "            i += 1\n",
    "            \n",
    "    return students_with_grade\n",
    "\n",
    "\n",
    "print(find_students_with_grade(marks, \"A+\"))\n",
    "print(find_students_with_grade(marks, \"A\"))\n",
    "print(find_students_with_grade(marks, \"FZ\"))\n",
    "\n",
    "print(\"\")           \n",
    "print(find_students_with_grade_nested(marks, \"A+\"))\n",
    "print(find_students_with_grade_nested(marks, \"A\"))\n",
    "print(find_students_with_grade_nested(marks, \"FZ\"))\n",
    "\n",
    "print(\"\")           \n",
    "print(find_students_with_grade_break(marks, \"A+\"))\n",
    "print(find_students_with_grade_break(marks, \"A\"))\n",
    "print(find_students_with_grade_break(marks, \"FZ\"))\n",
    "\n",
    "print(\"\")\n",
    "print(find_students_with_grade_while(marks, \"A+\"))\n",
    "print(find_students_with_grade_while(marks, \"A\"))\n",
    "print(find_students_with_grade_while(marks, \"FZ\"))\n",
    "\n"
   ]
  },
  {
   "cell_type": "markdown",
   "metadata": {},
   "source": [
    "## Q6\n",
    "The box score of a hockey game is the number of goals each team scores in each period followed by the total number of goals. We are going to represent the box score from one game in a list as follows:\n",
    "\n",
    "    [[\"MTL\", [1,0,0,1]], [\"TOR\", [1,0,1,2]], \"TOR\"]\n",
    "\n",
    "The box score contains 3 entries: two lists and a string. \n",
    "* The first and second entries (both lists) have the same form: a string and a list of 4 integers. The string is the team name and the list is the goals scored by that team in the first, second, and third periods and then the goal total. \n",
    "* The last entry is a string with the name of the team that won. \n",
    "\n",
    "For simplicity, we will assume that there is no overtime and no ties.\n",
    "\n",
    "You are given a list of box scores (that is a list where each element is a box score in the form defined above).\n",
    "\n",
    "Write a function that takes a single box score and returns `True` if the box score is well-formed under the following rules:\n",
    "* The goals for each team sum up to the total number of goals scored by the team in the box score.\n",
    "* The team that is listed as winning, scored the most goals. \n",
    "\n",
    "If either of the above is not true, return `False`.\n",
    "\n",
    "Test your function by creating a list of at least 3 box scores, with at least one of each type of error and calling the function for each box score. Be careful to exactly follow the rules for the form of the box scores. Here is a list of box scores in Python format.\n",
    "\n",
    "    box_scores = [[[\"MTL\", [1, 0, 0, 1]], [\"TOR\", [1,0,1,2]], \"TOR\"],\n",
    "                  [[\"VAN\", [1, 2, 0, 3]], [\"CGY\", [1,1,0,4]], \"CGY\"],\n",
    "                  [[\"EDM\", [18, 0, 0, 18]], [\"OTT\", [0,0,0,0]], \"EDM\"]]\n",
    "\n",
    "Bonus Questions: \n",
    "1. Extend the format of the box scores and your code to deal with overtime and shoot-outs. Under current NHL rules, there are no ties. You might consider adding to your checking function to make sure that there are no overtime goals if one team is ahead after regulation time and that there are no shoot-out goals if one team is ahead after regulation time or overtime. And that there can only be one goal for either team in the overtime or shoot-out.\n",
    "2. Write a new function that takes a list of box scores and a team name and calculates the number of points that the team has earned. A team gets 2 points for a win and 1 point for an overtime or shoot-out loss. (No points for a loss in regulation time).\n",
    "3. Adapt the problem to check the equivalent of box scores for your favorite sport: football, baseball, tennis, cricket, … (but maybe cricket will be too complicated?).\n",
    "\n"
   ]
  },
  {
   "cell_type": "code",
   "execution_count": 13,
   "metadata": {},
   "outputs": [
    {
     "name": "stdout",
     "output_type": "stream",
     "text": [
      "True\n",
      "False\n",
      "True\n",
      "False\n"
     ]
    }
   ],
   "source": [
    "def check_score(box_score):\n",
    "    '''\n",
    "    (list) -> Bool\n",
    "    Checks the the box_score is well-formed. \n",
    "    - That the goals in each period sum to the total and\n",
    "    - The correct team is listed as winning.\n",
    "    If these are correct, True is returned. If incorrect, False is returned.\n",
    "    '''\n",
    "    final_score = []\n",
    "    \n",
    "    # check if scores add up\n",
    "    for team in box_score[:2]:\n",
    "        if sum(team[1][:3]) != team[1][3]:\n",
    "            return False\n",
    "        final_score.append(team[1][3])\n",
    "    \n",
    "    # check if right team won\n",
    "    winner = box_score[0][0]\n",
    "    if final_score[0] < final_score[1]:\n",
    "        winner = box_score[1][0]\n",
    "        \n",
    "    return winner == box_score[2]\n",
    "\n",
    "box_scores = [[[\"MTL\", [1, 0, 0, 1]], [\"TOR\", [1,0,1,2]], \"TOR\"],\n",
    "              [[\"VAN\", [1, 2, 0, 3]], [\"CGY\", [1,1,0,4]], \"CGY\"],\n",
    "              [[\"EDM\", [18, 0, 0, 18]], [\"OTT\", [0, 0,0,0]], \"EDM\"],\n",
    "              [[\"TOR\", [3, 0, 0, 3]], [\"OTT\", [0, 0,0,0]], \"OTT\"]]\n",
    "\n",
    "for score in box_scores:\n",
    "    print(check_score(score))"
   ]
  },
  {
   "cell_type": "code",
   "execution_count": null,
   "metadata": {},
   "outputs": [],
   "source": []
  }
 ],
 "metadata": {
  "kernelspec": {
   "display_name": "Python 3",
   "language": "python",
   "name": "python3"
  },
  "language_info": {
   "codemirror_mode": {
    "name": "ipython",
    "version": 3
   },
   "file_extension": ".py",
   "mimetype": "text/x-python",
   "name": "python",
   "nbconvert_exporter": "python",
   "pygments_lexer": "ipython3",
   "version": "3.8.5"
  }
 },
 "nbformat": 4,
 "nbformat_minor": 4
}
