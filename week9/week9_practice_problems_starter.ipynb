{
 "cells": [
  {
   "cell_type": "markdown",
   "metadata": {},
   "source": [
    "# Week 9\n",
    "This week covers:\n",
    "* Aliasing and more on functions\n",
    "* A bit more on containers, i.e. dictionary, set, and tuples.\n",
    "\n"
   ]
  },
  {
   "cell_type": "markdown",
   "metadata": {},
   "source": [
    "## Question 1\n",
    "These questions are an extension of Week 5 Q6 and Q7. You might want to start from that code.\n",
    "1. Write a function that creates a copy of grades.txt, by reading each grade from the original file, and then writing that value to a file of a different name. The function shall take in the output file name as the argument, but the input file name (i.e.  grades.txt) shall remain an  optional argument. This question is very open eneded since there are many ways to read the file and write the file, for example, using `for` and `while` loops, or not using loops at all. Therefore, try to come up as many ways as you can. \n",
    "2.  The file onetwo.txt contains a nursery rhyme with each word on a different line. Write a function that reads the input file and writes the words to the screen with a separator character other than space, all on one line. The function should take in the filename as the argument, and an optional argument specifying the separator character (a semicolon shall be used as the default separator). Again, try to use as many ways as you can.\n",
    "\n"
   ]
  },
  {
   "cell_type": "code",
   "execution_count": null,
   "metadata": {},
   "outputs": [],
   "source": []
  },
  {
   "cell_type": "markdown",
   "metadata": {},
   "source": [
    "## Question 2\n",
    "First, generate a **list** of 100 random integers ranging from -10 to 10, and assign it to the variable `L`. Write a function remove all that takes that takes `L`, and an int `x` as an optional argument and removes all occurrences of `x` from the list. If `x` is not specified, then by default, remove the value of 0 from the list. Hint: use count, remove, and a while loop. Important point: if you want to repeatedly add/remove items from a list, it's not a good idea to use a for loop over that list. (Essentially a for loop assumes the thing it's looping over is not changing.) Does the function need to return `L` back to the main code?\n",
    "\n"
   ]
  },
  {
   "cell_type": "code",
   "execution_count": null,
   "metadata": {},
   "outputs": [],
   "source": []
  },
  {
   "cell_type": "markdown",
   "metadata": {},
   "source": [
    "## Question 3\n",
    "First, generate a **tuple** containing 100 random integers ranging from -10 to 10, and assign it to the variable `T`. Write a function that takes `T` and an optional argument, int `x`, and removes any occurrence that is strictly less than `x`.  If `x` is not specified, then by default, then remove all negative values. Again, use a while loop. Is it necessary for the function to return `T` back to the main code?"
   ]
  },
  {
   "cell_type": "code",
   "execution_count": null,
   "metadata": {},
   "outputs": [],
   "source": []
  },
  {
   "cell_type": "markdown",
   "metadata": {},
   "source": [
    "## Question 4\n",
    "\n",
    "Given a dictionary such as:\n",
    "```python\n",
    "test_dict = {'apple': [5, 6, 7, 8],\n",
    "             'is': [10, 11, 7, 5],\n",
    "             'best': [6, 12, 10, 8],\n",
    "             'for': [1, 2, 5]}\n",
    "```\n",
    "\n",
    "Write a function that returns a list that contains a sorted list of unique values in the dictionary values. For example, the resulting list from `test_dict` would be:\n",
    "```python\n",
    "[1, 2, 5, 6, 7, 8, 10, 11, 12]\n",
    "```\n",
    " "
   ]
  },
  {
   "cell_type": "code",
   "execution_count": null,
   "metadata": {},
   "outputs": [],
   "source": []
  },
  {
   "cell_type": "markdown",
   "metadata": {},
   "source": [
    "## Question 5\n",
    "First, generate a dictionary with keys being integers ranging from 1 to 100, and with the value for each key being a random list of 100 integers between -10 and 10. Then, write a function that takes in the dictionary you generated and an optional value `x`, and removes any occurrences in the values of dictionary that is strictly less than `x`. If `x` is not specified, then remove all negative values. Is it necessary for the function to return  the dictionary back to the main code?\n",
    "\n",
    "You may want to use some codes you wrote in Question 3."
   ]
  },
  {
   "cell_type": "code",
   "execution_count": null,
   "metadata": {},
   "outputs": [],
   "source": []
  }
 ],
 "metadata": {
  "kernelspec": {
   "display_name": "Python 3",
   "language": "python",
   "name": "python3"
  },
  "language_info": {
   "codemirror_mode": {
    "name": "ipython",
    "version": 3
   },
   "file_extension": ".py",
   "mimetype": "text/x-python",
   "name": "python",
   "nbconvert_exporter": "python",
   "pygments_lexer": "ipython3",
   "version": "3.8.5"
  }
 },
 "nbformat": 4,
 "nbformat_minor": 4
}
