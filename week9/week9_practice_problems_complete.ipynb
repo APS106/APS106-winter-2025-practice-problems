{
 "cells": [
  {
   "cell_type": "markdown",
   "metadata": {},
   "source": [
    "# Week 9\n",
    "This week covers:\n",
    "* Aliasing and more on functions\n",
    "* A bit more on containers, i.e. dictionary, set, and tuples.\n",
    "\n"
   ]
  },
  {
   "cell_type": "markdown",
   "metadata": {},
   "source": [
    "## Question 1\n",
    "These questions are an extension of Week 5 Q6 and Q7. You might want to start from that code.\n",
    "1. Write a function that creates a copy of grades.txt, by reading each grade from the original file, and then writing that value to a file of a different name. The function shall take in the output file name as the argument, but the input file name (i.e.  grades.txt) shall remain an  optional argument. This question is very open eneded since there are many ways to read the file and write the file, for example, using `for` and `while` loops, or not using loops at all. Therefore, try to come up as many ways as you can. \n",
    "2.  The file onetwo.txt contains a nursery rhyme with each word on a different line. Write a function that reads the input file and writes the words to the screen with a separator character other than space, all on one line. The function should take in the filename as the argument, and an optional argument specifying the separator character (a semicolon shall be used as the default separator). Again, try to use as many ways as you can.\n",
    "\n"
   ]
  },
  {
   "cell_type": "code",
   "execution_count": 67,
   "metadata": {},
   "outputs": [],
   "source": [
    "def copy_file_readlines(out_name, in_name=\"grades.txt\"):\n",
    "    ''' (str,str) -> None\n",
    "    Read the file in in_name and output it to out_name\n",
    "    '''\n",
    "    \n",
    "    out_file = open(out_name, 'w')\n",
    "    with open(in_name, 'r') as in_file:\n",
    "        text = in_file.readlines()\n",
    "        for line in text:\n",
    "            out_file.write(line)\n",
    "\n",
    "    out_file.close()\n",
    "\n",
    "def copy_file_read(out_name, in_name=\"grades.txt\"):\n",
    "    ''' (str,str) -> None\n",
    "    Read the file in in_name and output it to out_name\n",
    "    '''\n",
    "    \n",
    "    out_file = open(out_name, 'w')\n",
    "    with open(in_name, 'r') as in_file:\n",
    "        out_file.write(in_file.read())\n",
    "\n",
    "    out_file.close()\n",
    "\n",
    "def copy_file_readline(out_name, in_name=\"grades.txt\"):\n",
    "    ''' (str,str) -> None\n",
    "    Read the file in in_name and output it to out_name\n",
    "    '''\n",
    "    \n",
    "    out_file = open(out_name, 'w')\n",
    "    with open(in_name, 'r') as in_file:        \n",
    "        text = in_file.readline()\n",
    "        while text != \"\":\n",
    "            out_file.write(text)\n",
    "            text = in_file.readline()\n",
    "\n",
    "    out_file.close()\n",
    "\n",
    "def copy_file_for(out_name, in_name=\"grades.txt\"):\n",
    "    ''' (str,str) -> None\n",
    "    Read the file in in_name and output it to out_name\n",
    "    '''\n",
    "    \n",
    "    out_file = open(out_name, 'w')\n",
    "    with open(in_name, 'r') as in_file:        \n",
    "        for text in in_file:    \n",
    "            out_file.write(text)\n",
    "\n",
    "    out_file.close()\n",
    "\n",
    "copy_file_readlines(\"readlines.txt\")\n",
    "copy_file_read(\"read.txt\")\n",
    "copy_file_readline(\"readline.txt\")\n",
    "copy_file_readline(\"for.txt\")\n"
   ]
  },
  {
   "cell_type": "code",
   "execution_count": 68,
   "metadata": {},
   "outputs": [
    {
     "name": "stdout",
     "output_type": "stream",
     "text": [
      "One,/two,/buckle/my/shoe./\n",
      "One,.two,.buckle.my.shoe.\n",
      "One,?two,?buckle?my?shoe.?\n",
      "One,*two,*buckle*my*shoe.*\n"
     ]
    }
   ],
   "source": [
    "\n",
    "def convert_to_one_line_readlines(filename, sep=\" \"):\n",
    "    ''' (str) -> None\n",
    "    Read in the file in filename and write it out in one line, separated by spaces\n",
    "    '''\n",
    "    \n",
    "    s = \"\"\n",
    "    with open(filename) as infile:\n",
    "        text = infile.readlines()\n",
    "        for line in text:\n",
    "            s = s + line.rstrip('\\n') + sep\n",
    "\n",
    "    return s\n",
    "\n",
    "def convert_to_one_line_read(filename, sep=\" \"):\n",
    "    ''' (str) -> None\n",
    "    Read in the file in filename and write it out in one line, separated by spaces\n",
    "    '''\n",
    "    \n",
    "    with open(filename) as infile:\n",
    "        text = infile.read()\n",
    "        s = text.replace(\"\\n\", sep)\n",
    "\n",
    "    return s\n",
    "\n",
    "def convert_to_one_line_readline(filename, sep=\" \"):\n",
    "    ''' (str) -> None\n",
    "    Read in the file in filename and write it out in one line, separated by spaces\n",
    "    '''\n",
    "    \n",
    "    s = \"\"\n",
    "    with open(filename) as infile:\n",
    "        text = infile.readline()\n",
    "        while text != \"\":\n",
    "            s = s + text.rstrip('\\n') + sep\n",
    "            text = infile.readline()\n",
    "            \n",
    "    return s\n",
    "\n",
    "def convert_to_one_line_for(filename, sep=\" \"):\n",
    "    ''' (str) -> None\n",
    "    Read in the file in filename and write it out in one line, separated by spaces\n",
    "    '''\n",
    "    \n",
    "    s = \"\"\n",
    "    with open(filename) as infile:\n",
    "        for text in infile:\n",
    "            s = s + text.rstrip('\\n') + sep\n",
    "\n",
    "    return s\n",
    "\n",
    "s = convert_to_one_line_readlines(\"onetwo.txt\", \"/\")\n",
    "print(s)\n",
    "s = convert_to_one_line_read(\"onetwo.txt\", \".\")\n",
    "print(s)\n",
    "s = convert_to_one_line_readline(\"onetwo.txt\", \"?\")\n",
    "print(s)\n",
    "s = convert_to_one_line_for(\"onetwo.txt\", \"*\")\n",
    "print(s)\n",
    "        \n",
    "        \n"
   ]
  },
  {
   "cell_type": "markdown",
   "metadata": {},
   "source": [
    "## Question 2\n",
    "First, generate a **list** of 100 random integers ranging from -10 to 10, and assign it to the variable `L`. Write a function remove all that takes that takes `L`, and an int `x` as an optional argument and removes all occurrences of `x` from the list. If `x` is not specified, then by default, remove the value of 0 from the list. Hint: use count, remove, and a while loop. Important point: if you want to repeatedly add/remove items from a list, it's not a good idea to use a for loop over that list. (Essentially a for loop assumes the thing it's looping over is not changing.) Does the function need to return `L` back to the main code?\n",
    "\n"
   ]
  },
  {
   "cell_type": "code",
   "execution_count": 30,
   "metadata": {},
   "outputs": [
    {
     "name": "stdout",
     "output_type": "stream",
     "text": [
      "[8, -9, 3, 5, 8, -10, -4, 4, 5, -2, 10, -5, -9, 6, 5, -8, -3, 1, -9, 3, -6, 9, 1, 2, 3, -1, -2, 4, -5, -1, 1, -6, 4, -3, 4, 9, 2, -9, 8, -10, -3, -6, -4, -1, 7, 1, -3, 7, 4, 3, 5, -8, 10, 8, 6, -5, -3, 3, -3, -9, -9, 5, -1, 9, -8, 7, -8, -6, 2, 8, 1, 9, -6, -7, -7, 4, -5, -4, 1, 3, 3, 4, -3, -2, -6, 9, 6, -5, -7, -2, 4, -1, -5, 10, -5, -5, 5]\n",
      "[8, -9, 3, 5, 8, -10, -4, 4, 5, -2, 10, -5, -9, 6, 5, -8, -3, 1, -9, 3, -6, 9, 1, 2, 3, -1, -2, 4, -5, -1, 1, -6, 4, -3, 4, 9, 2, -9, 8, -10, -3, -6, -4, -1, 7, 1, -3, 7, 4, 3, 5, -8, 10, 8, 6, -5, -3, 3, -3, -9, -9, 5, -1, 9, -8, 7, -8, -6, 2, 8, 1, 9, -6, -7, -7, 4, -5, -4, 1, 3, 3, 4, -3, -2, -6, 9, 6, -5, -7, -2, 4, -1, -5, 10, -5, -5, 5]\n"
     ]
    }
   ],
   "source": [
    "import random\n",
    "\n",
    "    \n",
    "def remove_value(L, x = 0):\n",
    "    while x in L:\n",
    "        L.remove(x)\n",
    "    return # return nothing here. Note, the function does not need to return anything since\n",
    "           # L is a list and it is mutable. The change to it inside the function\n",
    "           # would also be changed globally\n",
    "           \n",
    "\n",
    "\n",
    "def remove_value_alt(L, x = 0):\n",
    "    while L.count(x) > 0:\n",
    "        L.pop(L.index(x))\n",
    "    return # Again, return nothing here\n",
    "\n",
    "        \n",
    "    \n",
    "random.seed(10)\n",
    "L = [] \n",
    "for _ in range(100):\n",
    "    L.append(random.randint(-10, 10))\n",
    "remove_value(L)\n",
    "assert 0 not in L\n",
    "print(L)\n",
    "\n",
    "random.seed(10)\n",
    "L = [] \n",
    "for _ in range(100):\n",
    "    L.append(random.randint(-10, 10))\n",
    "remove_value_alt(L)\n",
    "assert 0 not in L\n",
    "print(L)\n"
   ]
  },
  {
   "cell_type": "markdown",
   "metadata": {},
   "source": [
    "## Question 3\n",
    "First, generate a **tuple** containing 100 random integers ranging from -10 to 10, and assign it to the variable `T`. Write a function that takes `T` and an optional argument, int `x`, and removes any occurrence that is strictly less than `x`.  If `x` is not specified, then by default, then remove all negative values. Again, use a while loop. Is it necessary for the function to return `T` back to the main code?"
   ]
  },
  {
   "cell_type": "code",
   "execution_count": 62,
   "metadata": {},
   "outputs": [
    {
     "name": "stdout",
     "output_type": "stream",
     "text": [
      "(8, 3, 5, 8, 4, 5, 10, 6, 5, 0, 1, 3, 9, 1, 2, 3, 4, 1, 4, 4, 9, 2, 8, 7, 1, 0, 7, 4, 3, 5, 10, 8, 0, 6, 3, 5, 9, 7, 2, 8, 1, 9, 4, 1, 3, 3, 4, 9, 6, 4, 10, 5)\n",
      "(8, 3, 5, 8, 4, 5, 10, 6, 5, 0, 1, 3, 9, 1, 2, 3, 4, 1, 4, 4, 9, 2, 8, 7, 1, 0, 7, 4, 3, 5, 10, 8, 0, 6, 3, 5, 9, 7, 2, 8, 1, 9, 4, 1, 3, 3, 4, 9, 6, 4, 10, 5)\n"
     ]
    }
   ],
   "source": [
    "import random\n",
    "\n",
    "    \n",
    "\n",
    "def remove_value(T, x = 0):\n",
    "    new_T = ()\n",
    "    for val in T:\n",
    "        if val >= x:\n",
    "            new_T += (val, )\n",
    "    return new_T\n",
    "\n",
    "def remove_value_alt(T, x = 0):\n",
    "  \n",
    "    idx = len(T) - 1\n",
    "    while idx >= 0:\n",
    "        for val in T:\n",
    "            if T[idx] < x:\n",
    "                T = T[:idx] + T[idx+1:]\n",
    "            idx -= 1\n",
    "    return T \n",
    "\n",
    "\n",
    "\n",
    "random.seed(10)\n",
    "T = ()\n",
    "for _ in range(100):\n",
    "    T += (random.randint(-10, 10),)\n",
    "print(remove_value_alt(T))\n",
    "\n",
    "random.seed(10)\n",
    "T = ()\n",
    "for _ in range(100):\n",
    "    T += (random.randint(-10, 10),)\n",
    "print(remove_value(T))\n",
    "\n"
   ]
  },
  {
   "cell_type": "markdown",
   "metadata": {},
   "source": [
    "## Question 4\n",
    "\n",
    "Given a dictionary such as:\n",
    "```python\n",
    "test_dict = {'apple': [5, 6, 7, 8],\n",
    "             'is': [10, 11, 7, 5],\n",
    "             'best': [6, 12, 10, 8],\n",
    "             'for': [1, 2, 5]}\n",
    "```\n",
    "\n",
    "Write a function that returns a list that contains a sorted list of unique values in the dictionary values. For example, the resulting list from `test_dict` would be:\n",
    "```python\n",
    "[1, 2, 5, 6, 7, 8, 10, 11, 12]\n",
    "```\n",
    " "
   ]
  },
  {
   "cell_type": "code",
   "execution_count": 53,
   "metadata": {},
   "outputs": [
    {
     "name": "stdout",
     "output_type": "stream",
     "text": [
      "[1, 2, 5, 6, 7, 8, 10, 11, 12]\n"
     ]
    }
   ],
   "source": [
    "def sorted_vals(input_dict):\n",
    "    complied_vals = set()\n",
    "    for val in input_dict.values():\n",
    "        complied_vals = complied_vals.union(set(val))\n",
    "    \n",
    "    complied_vals = list(complied_vals)\n",
    "    complied_vals.sort()\n",
    "    return complied_vals\n",
    "    \n",
    "test_dict = {'apple': [5, 6, 7, 8],\n",
    "             'is': [10, 11, 7, 5],\n",
    "             'best': [6, 12, 10, 8],\n",
    "             'for': [1, 2, 5]}    \n",
    "print(sorted_vals(test_dict))\n",
    "    "
   ]
  },
  {
   "cell_type": "markdown",
   "metadata": {},
   "source": [
    "## Question 5\n",
    "First, generate a dictionary with keys being integers ranging from 1 to 100, and with the value for each key being a random list of 100 integers between -10 and 10. Then, write a function that takes in the dictionary you generated and an optional value `x`, and removes any occurrences in the values of dictionary that is strictly less than `x`. If `x` is not specified, then remove all negative values. Is it necessary for the function to return  the dictionary back to the main code?\n",
    "\n",
    "You may want to use some codes you wrote in Question 3."
   ]
  },
  {
   "cell_type": "code",
   "execution_count": 65,
   "metadata": {},
   "outputs": [],
   "source": [
    "def remove_dict_val(D, x = 0):\n",
    "    for key in D.keys():\n",
    "        idx = len(D[key]) - 1\n",
    "        while idx >= 0:\n",
    "            for val in D[key]:\n",
    "                if D[key][idx] < x:\n",
    "                    D[key].pop(idx)\n",
    "                idx -= 1\n",
    "    # No need to return anything since dictorary is mutable\n",
    "    \n",
    "random.seed(10)\n",
    "D = dict()\n",
    "for i in range(1, 101):\n",
    "    rnd_val = []\n",
    "    for _ in range(100):\n",
    "        rnd_val.append(random.randint(-10, 10))\n",
    "    D[i] = rnd_val\n",
    "remove_dict_val(D)"
   ]
  },
  {
   "cell_type": "code",
   "execution_count": null,
   "metadata": {},
   "outputs": [],
   "source": []
  }
 ],
 "metadata": {
  "kernelspec": {
   "display_name": "Python 3",
   "language": "python",
   "name": "python3"
  },
  "language_info": {
   "codemirror_mode": {
    "name": "ipython",
    "version": 3
   },
   "file_extension": ".py",
   "mimetype": "text/x-python",
   "name": "python",
   "nbconvert_exporter": "python",
   "pygments_lexer": "ipython3",
   "version": "3.8.5"
  }
 },
 "nbformat": 4,
 "nbformat_minor": 4
}
