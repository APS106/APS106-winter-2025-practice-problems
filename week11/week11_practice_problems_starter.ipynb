{
 "cells": [
  {
   "cell_type": "markdown",
   "metadata": {},
   "source": [
    "# Week 11\n",
    "\n",
    "This week's topics:\n",
    "* More OOP\n",
    "* Advanced Files, CSVs, and Modules"
   ]
  },
  {
   "cell_type": "markdown",
   "metadata": {},
   "source": [
    "## Question 1\n",
    "\n",
    "Create a class named `DecimalConvert`. The object should have an attribute  called `decimal`.  Then, write a class method (call it `convert`) to convert the positive base-10 integer (the `decimal` attribute) to binary. The class method should return a string of 0s and 1s corresponding to the binary value of the value of the integer. You may have to do a bit of research to figure out how to convert a base-10 to integer to binary. The class method should just retrun `None` if the input is not a positive integer.\n",
    "\n",
    "Then outside the class definition, write a program to prompt the user for input, then create an instance of `DecimalConvert` to convert the user input to binary, and print the results. "
   ]
  },
  {
   "cell_type": "code",
   "execution_count": null,
   "metadata": {},
   "outputs": [],
   "source": []
  },
  {
   "cell_type": "markdown",
   "metadata": {},
   "source": [
    "## Question 2\n",
    "\n",
    "If you want to buy a house, you need to find houses that are for sale. The multiple listing service (MLS) is a real estate listings service in Toronto that is updated throughout the day with new listings. The service has limited capabilities with housing listed by district, rather than particular streets. It would be much more convenient for the user to be able to input a list of streets and see all the houses for sale on those streets. You goal is to take the current listings and create such an algorithm.\n",
    "\n",
    "You have basic MLS real estate data in a CSV file called `real_estate.csv`. Write an algorithm that does the following:\n",
    "```\n",
    "    Enter a street name (type exit when done): wells\n",
    "    Enter a street name (type exit when done): perth\n",
    "    Enter a street name (type exit when done): exit\n",
    "    \n",
    "    Houses on wells\n",
    "    No houses on wells\n",
    "    Houses on perth\n",
    "    \n",
    "    Address: 436 perth Size: 900 Price: $ 479900\n",
    "    Address: 115 perth Size: 1100 Price: $ 699900\n",
    "    Address: 516 perth Size: 800 Price: $ 498900\n",
    "    Address: 288 perth Size: 1300 Price: $ 699000\n",
    "    Address: 179 perth Size: 1100 Price: $ 699000\n",
    "```\n",
    "\n",
    "In other words, you want the user to input a number of street names and you should print out the information on available houses on each street.\n",
    "\n",
    "A very high-level Algorithm Plan could be the following:\n",
    "* Read in the data and store it somehow\n",
    "* Get the user input and store it somehow\n",
    "* For each street entered, find houses on the street\n",
    "* Print-out the address, size, and price of each house found\n",
    "\n",
    "You should try to write your algo in two ways:\n",
    "* Store the real estate data in a list.\n",
    "* Store the real estate data in a dictionary where the key is the street name and the value is a list of the data for each house."
   ]
  },
  {
   "cell_type": "code",
   "execution_count": null,
   "metadata": {},
   "outputs": [],
   "source": []
  },
  {
   "cell_type": "markdown",
   "metadata": {},
   "source": [
    "## Question 3\n",
    "\n",
    "In the real estate problem above, it is more natural to represent each house as an object\n",
    "(of class House) and have each of the pieces of data represented by attributes (i.e., a street\n",
    "number attribute, a street attribute, etc.).\n",
    "Redo the Q2 in an object-oriented way. Start with the code you already have and\n",
    "* create a `House` object\n",
    "* write an `__init__` function that accepts one entry from the MLS_list and fills in the attributes appropriately\n",
    "*  edit the functions you wrote above to deal with this new way of representing the houses. For example, rather than setting up a dictionary (indexed by street name) whose values are the lists of dictionaries, you should set-up a dictionary whose values are lists of `House` objects.\n",
    "*  Bonus question: research the `__str__` function and then write one for the `House` object to print out the information about the house."
   ]
  },
  {
   "cell_type": "code",
   "execution_count": null,
   "metadata": {},
   "outputs": [],
   "source": []
  },
  {
   "cell_type": "markdown",
   "metadata": {},
   "source": [
    "## Question 4\n",
    "This is a problem that arose a few years ago in the processing of the marks for Midterm 1 because Blackboard (the equivalent of Quercus that we were using at the time) and Crowdmark did not talk to each other perfectly.\n",
    "\n",
    "You are given two CSV files: A Blackboard file (`bb.csv`) containing an entry for each student and a Crowdmark file (`crowdmarks.csv`) also containing a set of entries for each student. Both contain the mark for Midterm #1 (see the files) but unfortunately, due to some system mis-matches:\n",
    "1. Not all students in the Blackboard file are in the Crowdmark file, and\n",
    "2. Some of the marks for Midterm #1 do not match.\n",
    "You need to write code to read in both files and print out the id# of each student who is not in the Crowdmark file and each student whose marks do not match. For example, the beginning of your output may look like:\n",
    "```\n",
    "    Error: Mark mismatch for 277ccd0d-0efb-40c5-a6a2-22cab7601823 41.0 2.0\n",
    "    Error: Mark mismatch for b8ca83f6-a4e7-41e8-97d9-85588fb4108f 43.0 9.0\n",
    "    Error: Mark mismatch for 48755b18-6f1b-4c4c-8ff2-420dd1be402c 34.0 38.0\n",
    "    Error: Mark mismatch for 67a42c7b-18cd-4762-86e6-25b6ee3cd1c7 38.0 2.0\n",
    "    Error: Mark mismatch for 62a597fa-ef5e-42d0-9475-843be3c6b473 33.0 32.0\n",
    "    Error: Mark mismatch for c2c950af-ddf4-47ef-978a-c125e96b529e 9.0 37.0\n",
    "    67fe5434-2eb9-41ec-b977-f508bd819f22 not in Crowdmark file.\n",
    "    Error: Mark mismatch for 66eb7226-7582-4f52-b366-15351abb53c6 24.0 33.0\n",
    "```\n",
    "\n",
    "The order of the students in each file may be different.\n",
    " \n",
    "You probably want to define and implement a number of functions. Try to write clear and understandable code.\n",
    "\n",
    "Need a hint? Post some ideas to piazza and we'll give you some hints."
   ]
  },
  {
   "cell_type": "code",
   "execution_count": null,
   "metadata": {},
   "outputs": [],
   "source": []
  }
 ],
 "metadata": {
  "kernelspec": {
   "display_name": "Python 3",
   "language": "python",
   "name": "python3"
  },
  "language_info": {
   "codemirror_mode": {
    "name": "ipython",
    "version": 3
   },
   "file_extension": ".py",
   "mimetype": "text/x-python",
   "name": "python",
   "nbconvert_exporter": "python",
   "pygments_lexer": "ipython3",
   "version": "3.8.5"
  }
 },
 "nbformat": 4,
 "nbformat_minor": 4
}
