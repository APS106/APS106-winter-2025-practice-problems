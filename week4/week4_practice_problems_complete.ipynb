{
 "cells": [
  {
   "cell_type": "markdown",
   "metadata": {},
   "source": [
    "# Week 4\n",
    "\n",
    "The main topic of this week is on `while` loop.\n"
   ]
  },
  {
   "cell_type": "markdown",
   "metadata": {},
   "source": [
    "## Question 1\n",
    "Remember in [week 2](https://jupyter.utoronto.ca/hub/user-redirect/git-pull?repo=https%3A%2F%2Fgithub.com%2FAPS106%2FAPS106-winter-2025-practice-problems&urlpath=tree%2FAPS106-winter-2025-practice-problems%2Fweek2%2Fweek2_practice_problems_complete.ipynb&branch=master), we asked you to write a function that takes an integer input and returns an integer equal to the number of digits it has? In this week's we ask you to write the function that does the same but use a loop that you just learned in class. The function should work with all integers representable on your computer.   \n",
    "For example, say your input number is 123456, the output of the function should then be 6.\n",
    "\n"
   ]
  },
  {
   "cell_type": "code",
   "execution_count": 1,
   "metadata": {},
   "outputs": [],
   "source": [
    "def count_digits(num):\n",
    "    '''\n",
    "    (int) -> int\n",
    "    Returns the number of digits in num.\n",
    "    '''\n",
    "    num = abs(num) # deal with negative integers\n",
    "    \n",
    "    count = 1\n",
    "    while num // 10 > 0:\n",
    "        count += 1\n",
    "        num //= 10\n",
    "    return count\n",
    "    "
   ]
  },
  {
   "cell_type": "code",
   "execution_count": 2,
   "metadata": {},
   "outputs": [
    {
     "name": "stdout",
     "output_type": "stream",
     "text": [
      "6\n"
     ]
    }
   ],
   "source": [
    "# Test your code here\n",
    "num = 123456\n",
    "print(count_digits(num))"
   ]
  },
  {
   "cell_type": "markdown",
   "metadata": {},
   "source": [
    "## Question 2\n",
    "Also in [week 2](https://jupyter.utoronto.ca/hub/user-redirect/git-pull?repo=https%3A%2F%2Fgithub.com%2FAPS106%2FAPS106-winter-2025-practice-problems&urlpath=tree%2FAPS106-winter-2025-practice-problems%2Fweek2%2Fweek2_practice_problems_complete.ipynb&branch=master), we asked you to write a function that takes an integer as input and returns that integer flipped. Unlike Week 2, the code must work with any integer and a single digit flipped is the number itself. If a number ends in a zero, the flipped number will not have a leading 0. Some examples: \n",
    "* 2 - > 2\n",
    "* 34 -> 43\n",
    "* 123450 -> 54321\n",
    "\n",
    "As above, you should complete this question using a you just learned in class. \n"
   ]
  },
  {
   "cell_type": "code",
   "execution_count": 3,
   "metadata": {},
   "outputs": [],
   "source": [
    "def flipper(num):\n",
    "    '''\n",
    "    (int) -> int\n",
    "    Returns the num flipped (e.g., 12 -> 21, 123 -> 321).\n",
    "    '''\n",
    "    # Repeatedly peel off the ones digit and add it to 10 times\n",
    "    # the value accumulated in flipped_num\n",
    "    flipped_num = 0\n",
    "    while num > 0:\n",
    "        flipped_num *= 10          # make space for the new ones_digit\n",
    "        ones_digit = num % 10      # grab the ones digit\n",
    "        flipped_num += ones_digit\n",
    "        num //= 10                 # discard the old ones digit\n",
    "\n",
    "    return flipped_num\n",
    "\n",
    "\n"
   ]
  },
  {
   "cell_type": "code",
   "execution_count": 4,
   "metadata": {},
   "outputs": [
    {
     "name": "stdout",
     "output_type": "stream",
     "text": [
      "654321\n",
      "54321\n"
     ]
    }
   ],
   "source": [
    "# Test your code here\n",
    "num = 123456\n",
    "print(flipper(num))\n",
    "\n",
    "num = 123450\n",
    "print(flipper(num))"
   ]
  },
  {
   "cell_type": "markdown",
   "metadata": {},
   "source": [
    "## Question 3\n",
    "Write a function that takes in an odd number and returns the sum of odd numbers from 1 to N:\n",
    "\n",
    "    1 + 3 + 5 + 7 + 9 + ... + N\n",
    "\n",
    "Write \"main\" code (i.e., outside of a function) that asks the user for an odd, positive integer. If the user does not enter an odd, positive integer, your code should keep asking until they do. Then call your function, have your function return the result, and then print it out.  \n"
   ]
  },
  {
   "cell_type": "code",
   "execution_count": 5,
   "metadata": {},
   "outputs": [],
   "source": [
    "def sum_of_odd(num): \n",
    "    ''' (int) -> int\n",
    "    Returns the sum of odd numbers from 0 to num. Assumes num is odd.\n",
    "    '''\n",
    "    my_sum = 0\n",
    "    i = 1\n",
    "    while i <= num:\n",
    "        my_sum += i\n",
    "        i += 2\n",
    "    return my_sum\n",
    "\n",
    "\n",
    "def sum_of_odd_using_range(num): \n",
    "    # we haven't got to range() yet in APS106 but this is an alternative\n",
    "    ''' (int) -> int\n",
    "    Returns the sum of odd numbers from 0 to num. Assumes num is odd.\n",
    "    '''\n",
    "    return sum(range(1,num+1,2))"
   ]
  },
  {
   "cell_type": "code",
   "execution_count": 6,
   "metadata": {},
   "outputs": [
    {
     "name": "stdin",
     "output_type": "stream",
     "text": [
      "Please enter an odd, positive value:  5\n"
     ]
    },
    {
     "name": "stdout",
     "output_type": "stream",
     "text": [
      "The sum of odd numbers from 1 to 5 is 9\n",
      "The sum of odd numbers from 1 to 5 is 9\n"
     ]
    }
   ],
   "source": [
    "# Write your \"main\" code here, which repeatedly asks user for an odd, positive integer\n",
    "\n",
    "\n",
    "n = 0\n",
    "while (n < 0) or (n % 2 == 0):    \n",
    "    n = int(input(\"Please enter an odd, positive value: \"))\n",
    "\n",
    "s = sum_of_odd(n)\n",
    "print(\"The sum of odd numbers from 1 to\", n, \"is\", s)\n",
    "\n",
    "s = sum_of_odd_using_range(n)\n",
    "print(\"The sum of odd numbers from 1 to\", n, \"is\", s)"
   ]
  },
  {
   "cell_type": "markdown",
   "metadata": {},
   "source": [
    "## Question 4\n",
    "Write a program that repeatedly asks a user for integers, until the user enters a zero and then prints: \n",
    "* the number of positive and negative integers that were entered\n",
    "* the sum of the positive integers\n",
    "* the sum of the negative integers  \n",
    "\n",
    "For example:\n",
    "```\n",
    "Enter an integer (0 to exit): 2\n",
    "Enter an integer (0 to exit): 14\n",
    "Enter an integer (0 to exit): -3\n",
    "Enter an integer (0 to exit): 4\n",
    "Enter an integer (0 to exit): -5\n",
    "Enter an integer (0 to exit): 0\n",
    "You entered 3 positive and 2 negative values.\n",
    "The sum of positive integers is: 20\n",
    "The sum of negative integers is: -8\n",
    "```"
   ]
  },
  {
   "cell_type": "code",
   "execution_count": 7,
   "metadata": {},
   "outputs": [
    {
     "name": "stdin",
     "output_type": "stream",
     "text": [
      "Enter an integer (0 to exit):  2\n",
      "Enter an integer (0 to exit):  14\n",
      "Enter an integer (0 to exit):  -3\n",
      "Enter an integer (0 to exit):  4\n",
      "Enter an integer (0 to exit):  -5\n",
      "Enter an integer (0 to exit):  0\n"
     ]
    },
    {
     "name": "stdout",
     "output_type": "stream",
     "text": [
      "\n",
      "You entered 3 positive and 2 negative values.\n",
      "The sum of positive integers is: 20\n",
      "The sum of negative integers is: -8\n"
     ]
    }
   ],
   "source": [
    "# Write your code here. No need to write a function unless you prefer to\n",
    "\n",
    "num_pos = 0\n",
    "sum_pos = 0\n",
    "num_neg = 0\n",
    "sum_neg = 0\n",
    "n = int(input(\"Enter an integer (0 to exit): \"))\n",
    "\n",
    "while n != 0:\n",
    "    if n < 0:\n",
    "        num_neg += 1\n",
    "        sum_neg += n\n",
    "    elif n > 0:\n",
    "        num_pos += 1\n",
    "        sum_pos += n\n",
    "\n",
    "    n = int(input(\"Enter an integer (0 to exit): \"))\n",
    "\n",
    "print(\"\\nYou entered\", num_pos, \"positive and\", num_neg, \"negative values.\")\n",
    "print(\"The sum of positive integers is:\", sum_pos)\n",
    "print(\"The sum of negative integers is:\", sum_neg)"
   ]
  },
  {
   "cell_type": "markdown",
   "metadata": {},
   "source": [
    "## Question 5\n",
    "The [Fibonacci sequence](https://en.wikipedia.org/wiki/Fibonacci_sequence) is:\n",
    "\n",
    "    0, 1, 1, 2, 3, 5, 8, 13, 21, 34, ...\n",
    "\n",
    "Starting with 0 and 1 as entry 1 and 2, respectively, each subsequent entry is the sum of the previous two entries.\n",
    "\n",
    "Write a function that takes an integer, $i$, as input and returns the ith Fibonacci number. \n",
    "\n",
    "Hint: This seems easy, but it may take you some effort to get the initialization and condition for the while-loop correct. Make sure you are getting the right answer!\n"
   ]
  },
  {
   "cell_type": "code",
   "execution_count": 8,
   "metadata": {},
   "outputs": [],
   "source": [
    "def  fibonacci(i):\n",
    "    if i == 0: return 0\n",
    "    elif i == 1: return 1\n",
    "    else:\n",
    "        a = 0\n",
    "        b = 1\n",
    "        count  = 2\n",
    "        while count < i:\n",
    "            a, b = b, a + b\n",
    "            count += 1\n",
    "        return b"
   ]
  },
  {
   "cell_type": "code",
   "execution_count": 9,
   "metadata": {},
   "outputs": [
    {
     "name": "stdout",
     "output_type": "stream",
     "text": [
      "8\n"
     ]
    }
   ],
   "source": [
    "i = 7\n",
    "print(fibonacci(i))"
   ]
  },
  {
   "cell_type": "markdown",
   "metadata": {},
   "source": [
    "## Question 6\n",
    "The [Collatz Conjecture](https://en.wikipedia.org/wiki/Collatz_conjecture) is based on a sequence of numbers generated with the following rules:\n",
    "* start with an arbitrary positive number $c_0$\n",
    "* if $c_i$ is even then $c_{i+1}= \\frac{c_i}{2}$\n",
    "* if $c_i$ is odd then $c_{i+1}= 3\\cdot c_i+1$\n",
    "\n",
    "The Collatz Conjecture states that this sequence will eventually produce 1. That is $c_j=1$ for some non-infinite value of $j$.\n",
    "\n",
    "Write a function to test the Collatz Conjecture.  Your function should accept a value for $c_0$ and return the number of values in the sequence, $j$, such that $c_j=1$.\n",
    "\n",
    "Then, in the \"main\" code, use your function to determine the number of values in sequences $j$ with a starting value $c_0$ between 1 and 100,000. What is the highest $j$ you can obtain? And what is the corresponding $c_0$?\n"
   ]
  },
  {
   "cell_type": "code",
   "execution_count": 10,
   "metadata": {},
   "outputs": [],
   "source": [
    "def collatz(c0):\n",
    "    '''\n",
    "    (int) -> int\n",
    "    \n",
    "    Follow the rules of the Collatz Conjecture to return the lowest index of\n",
    "    the sequence starting with c0 s.t. cj == 1\n",
    "    '''\n",
    "    j = 0\n",
    "    c = c0\n",
    "    \n",
    "    while c != 1:\n",
    "        if c % 2 == 0:\n",
    "            c = c//2\n",
    "        else:\n",
    "            c = 3 * c + 1\n",
    "            \n",
    "        j += 1\n",
    "        \n",
    "        #print(j, c)\n",
    "        \n",
    "    return j\n",
    "\n",
    "\n",
    "\n"
   ]
  },
  {
   "cell_type": "code",
   "execution_count": 11,
   "metadata": {},
   "outputs": [
    {
     "name": "stdout",
     "output_type": "stream",
     "text": [
      "77031 350\n"
     ]
    }
   ],
   "source": [
    "# Test the function here, and answer the question.\n",
    "s = 1\n",
    "num_with_max_j = -1\n",
    "max_j = -1\n",
    "\n",
    "while s <= 100000:\n",
    "    j = collatz(s)\n",
    "    #print(s, j)\n",
    "    \n",
    "    if j > max_j:\n",
    "        max_j = j\n",
    "        num_with_max_j = s\n",
    "        \n",
    "    s += 1\n",
    "    \n",
    "print(num_with_max_j, max_j)"
   ]
  },
  {
   "cell_type": "code",
   "execution_count": null,
   "metadata": {},
   "outputs": [],
   "source": []
  }
 ],
 "metadata": {
  "kernelspec": {
   "display_name": "Python 3",
   "language": "python",
   "name": "python3"
  },
  "language_info": {
   "codemirror_mode": {
    "name": "ipython",
    "version": 3
   },
   "file_extension": ".py",
   "mimetype": "text/x-python",
   "name": "python",
   "nbconvert_exporter": "python",
   "pygments_lexer": "ipython3",
   "version": "3.8.5"
  }
 },
 "nbformat": 4,
 "nbformat_minor": 4
}
