{
 "cells": [
  {
   "cell_type": "markdown",
   "metadata": {},
   "source": [
    "# Week 4\n",
    "\n",
    "The main topic of this week is on `while` loop.\n"
   ]
  },
  {
   "cell_type": "markdown",
   "metadata": {},
   "source": [
    "## Question 1\n",
    "Remember in [week 2](https://jupyter.utoronto.ca/hub/user-redirect/git-pull?repo=https%3A%2F%2Fgithub.com%2FAPS106%2FAPS106-winter-2025-practice-problems&urlpath=tree%2FAPS106-winter-2025-practice-problems%2Fweek2%2Fweek2_practice_problems_complete.ipynb&branch=master), we asked you to write a function that takes an integer input and returns an integer equal to the number of digits it has? In this week's we ask you to write the function that does the same but use a loop that you just learned in class. The function should work with all integers representable on your computer.   \n",
    "For example, say your input number is 123456, the output of the function should then be 6.\n",
    "\n"
   ]
  },
  {
   "cell_type": "code",
   "execution_count": null,
   "metadata": {},
   "outputs": [],
   "source": [
    "def count_digits(num):\n",
    "    # Fill in the docstring and your code here\n",
    "    "
   ]
  },
  {
   "cell_type": "code",
   "execution_count": null,
   "metadata": {},
   "outputs": [],
   "source": [
    "# Test your code here\n",
    "num = \n",
    "print(count_digits(num))"
   ]
  },
  {
   "cell_type": "markdown",
   "metadata": {},
   "source": [
    "## Question 2\n",
    "Also in [week 2](https://jupyter.utoronto.ca/hub/user-redirect/git-pull?repo=https%3A%2F%2Fgithub.com%2FAPS106%2FAPS106-winter-2025-practice-problems&urlpath=tree%2FAPS106-winter-2025-practice-problems%2Fweek2%2Fweek2_practice_problems_complete.ipynb&branch=master), we asked you to write a function that takes an integer as input and returns that integer flipped. Unlike Week 2, the code must work with any integer and a single digit flipped is the number itself. If a number ends in a zero, the flipped number will not have a leading 0. Some examples: \n",
    "* 2 - > 2\n",
    "* 34 -> 43\n",
    "* 123450 -> 54321\n",
    "\n",
    "As above, you should complete this question using a you just learned in class. \n"
   ]
  },
  {
   "cell_type": "code",
   "execution_count": null,
   "metadata": {},
   "outputs": [],
   "source": [
    "def flipper(num):\n",
    "    # Fill in the docstring and your code here\n"
   ]
  },
  {
   "cell_type": "code",
   "execution_count": null,
   "metadata": {},
   "outputs": [],
   "source": [
    "# Test your code here\n",
    "num = \n",
    "print(flipper(num))"
   ]
  },
  {
   "cell_type": "markdown",
   "metadata": {},
   "source": [
    "## Question 3\n",
    "Write a function that takes in an odd number and returns the sum of odd numbers from 1 to N:\n",
    "\n",
    "    1 + 3 + 5 + 7 + 9 + ... + N\n",
    "\n",
    "Write \"main\" code (i.e., outside of a function) that asks the user for an odd, positive integer. If the user does not enter an odd, positive integer, your code should keep asking until they do. Then call your function, have your function return the result, and then print it out.  \n"
   ]
  },
  {
   "cell_type": "code",
   "execution_count": null,
   "metadata": {},
   "outputs": [],
   "source": [
    "def sum_of_odd(num): \n",
    "    # Fill in the docstring and your code here"
   ]
  },
  {
   "cell_type": "code",
   "execution_count": null,
   "metadata": {},
   "outputs": [],
   "source": [
    "# Write your \"main\" code here, which repeatedly asks user for an odd, positive integer\n",
    "\n",
    "\n"
   ]
  },
  {
   "cell_type": "markdown",
   "metadata": {},
   "source": [
    "## Question 4\n",
    "Write a program that repeatedly asks a user for integers, until the user enters a zero and then prints: \n",
    "* the number of positive and negative integers that were entered\n",
    "* the sum of the positive integers\n",
    "* the sum of the negative integers  \n",
    "\n",
    "For example:\n",
    "```\n",
    "Enter an integer (0 to exit): 2\n",
    "Enter an integer (0 to exit): 14\n",
    "Enter an integer (0 to exit): -3\n",
    "Enter an integer (0 to exit): 4\n",
    "Enter an integer (0 to exit): -5\n",
    "Enter an integer (0 to exit): 0\n",
    "You entered 3 positive and 2 negative values.\n",
    "The sum of positive integers is: 20\n",
    "The sum of negative integers is: -8\n",
    "```"
   ]
  },
  {
   "cell_type": "code",
   "execution_count": null,
   "metadata": {},
   "outputs": [],
   "source": [
    "# Write your code here. No need to write a function unless you prefer to\n",
    "\n"
   ]
  },
  {
   "cell_type": "markdown",
   "metadata": {},
   "source": [
    "## Question 5\n",
    "The [Fibonacci sequence](https://en.wikipedia.org/wiki/Fibonacci_sequence) is:\n",
    "\n",
    "    0, 1, 1, 2, 3, 5, 8, 13, 21, 34, ...\n",
    "\n",
    "Starting with 0 and 1 as entry 1 and 2, respectively, each subsequent entry is the sum of the previous two entries.\n",
    "\n",
    "Write a function that takes an integer, $i$, as input and returns the ith Fibonacci number. \n",
    "\n",
    "Hint: This seems easy, but it may take you some effort to get the initialization and condition for the while-loop correct. Make sure you are getting the right answer!\n"
   ]
  },
  {
   "cell_type": "code",
   "execution_count": null,
   "metadata": {},
   "outputs": [],
   "source": [
    "def  fibonacci(i):\n",
    "    # Fill in the docstring and your code here"
   ]
  },
  {
   "cell_type": "code",
   "execution_count": null,
   "metadata": {},
   "outputs": [],
   "source": [
    "i = \n",
    "print(fibonacci(i))"
   ]
  },
  {
   "cell_type": "markdown",
   "metadata": {},
   "source": [
    "## Question 6\n",
    "The [Collatz Conjecture](https://en.wikipedia.org/wiki/Collatz_conjecture) is based on a sequence of numbers generated with the following rules:\n",
    "* start with an arbitrary positive number $c_0$\n",
    "* if $c_i$ is even then $c_{i+1}= \\frac{c_i}{2}$\n",
    "* if $c_i$ is odd then $c_{i+1}= 3\\cdot c_i+1$\n",
    "\n",
    "The Collatz Conjecture states that this sequence will eventually produce 1. That is $c_j=1$ for some non-infinite value of $j$.\n",
    "\n",
    "Write a function to test the Collatz Conjecture.  Your function should accept a value for $c_0$ and return the number of values in the sequence, $j$, such that $c_j=1$.\n",
    "\n",
    "Then, in the \"main\" code, use your function to determine the number of values in sequences $j$ with a starting value $c_0$ between 1 and 100,000. What is the highest $j$ you can obtain? And what is the corresponding $c_0$?\n"
   ]
  },
  {
   "cell_type": "code",
   "execution_count": null,
   "metadata": {},
   "outputs": [],
   "source": [
    "def collatz(c0):\n",
    "    # Fill in the docstring and your code here\n",
    "\n",
    "\n",
    "\n",
    "\n"
   ]
  },
  {
   "cell_type": "code",
   "execution_count": null,
   "metadata": {},
   "outputs": [],
   "source": [
    "# Test the function here, and answer the question.\n"
   ]
  }
 ],
 "metadata": {
  "kernelspec": {
   "display_name": "Python 3",
   "language": "python",
   "name": "python3"
  },
  "language_info": {
   "codemirror_mode": {
    "name": "ipython",
    "version": 3
   },
   "file_extension": ".py",
   "mimetype": "text/x-python",
   "name": "python",
   "nbconvert_exporter": "python",
   "pygments_lexer": "ipython3",
   "version": "3.8.5"
  }
 },
 "nbformat": 4,
 "nbformat_minor": 4
}
