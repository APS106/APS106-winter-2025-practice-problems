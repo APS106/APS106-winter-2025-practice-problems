{
 "cells": [
  {
   "cell_type": "markdown",
   "metadata": {},
   "source": [
    "# Week 5\n",
    "This week covers:\n",
    "* Strings: Conversions, Indexing, Slicing, and Immutability\n",
    "* Introduction to Object-Oriented Programming and the File Object\n",
    "\n"
   ]
  },
  {
   "cell_type": "markdown",
   "metadata": {},
   "source": [
    "## Question 1\n",
    "Read one string from the user. Then, swap cases and print the result. In other words, convert all lowercase letters to uppercase letters and vice versa. You should solve this question twice.\n",
    "\n",
    "\n",
    "1. There is a str method that will do this for you and so after the input just call it.\n",
    "2.  But 1) is not much of an exercise, so you should also do it without calling that function!\n",
    "\n",
    "For example\n",
    "```\n",
    "Please input a string with upper and lower case letters:  aBc\n",
    "AbC\n",
    "```\n"
   ]
  },
  {
   "cell_type": "code",
   "execution_count": null,
   "metadata": {},
   "outputs": [],
   "source": [
    "# Write your code here."
   ]
  },
  {
   "cell_type": "markdown",
   "metadata": {},
   "source": [
    "## Question 2\n",
    "Get one string from the user, remove all exclamation and question marks from it, and output the resulting string. \n",
    "\n",
    "Example:\n",
    "* Input: `Hello!`, Output: `Hello`\n",
    "* Input: `How are you?`, Output: `How are you`\n",
    "\n",
    "1. There is a str method that will do this for you (if you use it correctly) and so after the input just call it.\n",
    "2. But 1) is not much of an exercise, so you should also do it without calling that function!\n"
   ]
  },
  {
   "cell_type": "code",
   "execution_count": null,
   "metadata": {},
   "outputs": [],
   "source": [
    "# Write your code here."
   ]
  },
  {
   "cell_type": "markdown",
   "metadata": {},
   "source": [
    "## Question 3\n",
    "1. Prompt the user to enter their full name and, using only string comparison functions, decide if the string starts with your first name.  If it does, print out `How did you know my name?`. If it doesn’t, print out `It's rude to not know my name.`\n",
    "\n",
    "2. Write a function that takes two strings and returns `True` if the two \"match\", where this time \"matching\" is not case sensitive. (So `Smith` and `smitH` match). Redo part a) using this function. \n",
    "\n"
   ]
  },
  {
   "cell_type": "code",
   "execution_count": null,
   "metadata": {},
   "outputs": [],
   "source": [
    "# Write your code here."
   ]
  },
  {
   "cell_type": "markdown",
   "metadata": {},
   "source": [
    "## Question 4\n",
    "Redo Question 2 from [Week 4](https://jupyter.utoronto.ca/hub/user-redirect/git-pull?repo=https%3A%2F%2Fgithub.com%2FAPS106%2FAPS106-winter-2025-practice-problems&urlpath=tree%2FAPS106-winter-2025-practice-problems%2Fweek4%2Fweek4_practice_problems_starter.ipynb&branch=master) using strings. That is, write a function that takes in a positive integer of any size and returns the \"flipped\" version (that is, with its digits reversed). For example:\n",
    "\n",
    "    Enter a positive number:  90177\n",
    "    That number flipped is 77109\n",
    "\n",
    "Use string functions to do it. Note that the function should still have a type contract of `(int)->int`. It is only inside the function that you are allowed to use strings.\n"
   ]
  },
  {
   "cell_type": "code",
   "execution_count": null,
   "metadata": {},
   "outputs": [],
   "source": [
    "# Write your code here"
   ]
  },
  {
   "cell_type": "markdown",
   "metadata": {},
   "source": [
    "## Question 5\n",
    "DNA has 4 nucleotides: adenine (A), thymine (T), cytosine (C), and guanine (G). A strand of DNA can be represented as a string of A, T, C, and G. A double helix contains two strands that are \"mirror images\" of each other in the sense that A is swapped with T and C is swapped with G. For example, here are two paired strands:\n",
    "\n",
    "    ATGGGCAATCGATGGCCTAATCTCTCTAAG\n",
    "    TACCCGTTAGCTACCGGATTAGAGAGATTC\n",
    "\n",
    "Notice that each A in the top strand has a corresponding T in the bottom one and vice versa. Same for C and G.\n",
    "\n",
    "Write a function that takes in a DNA strand and produces its matching counterpart in a double helix. \n",
    "\n",
    "There are a few ways to solve this problem see how many you can come up with.\n",
    "\n",
    "Hint: You are going to have to be a bit clever with how you use the methods to get this right.\n"
   ]
  },
  {
   "cell_type": "code",
   "execution_count": null,
   "metadata": {},
   "outputs": [],
   "source": [
    "# Write your code here"
   ]
  },
  {
   "cell_type": "markdown",
   "metadata": {},
   "source": [
    "## Question 6\n",
    "Write a program that creates a copy of `grades.txt`, by reading each grade from the original file, and then writing that value to a file of a different name.\n",
    "\n",
    "We'll be looking at a number of different ways that this problem can be solved (see Ch 10 in your textbook). You should write three functions each solving the problem using different methods for reading the file. (Don't worry about `readlines()` yet).\n"
   ]
  },
  {
   "cell_type": "code",
   "execution_count": null,
   "metadata": {},
   "outputs": [],
   "source": [
    "# Write your code here"
   ]
  },
  {
   "cell_type": "markdown",
   "metadata": {},
   "source": [
    "## Question 7\n",
    "Open the file `onetwo.txt` with a simple text editor (e.g., Notepad on Windows or TextEdit on a Mac), and you’ll discover a sentence, but with each word on a separate line:\n",
    "\n",
    "    One,\n",
    "    two,\n",
    "    buckle\n",
    "    my\n",
    "    shoe.\n",
    "\n",
    "Remember that although you can’t see them, the file contains newline characters at the end of each line.  Write a program that reads the input file, and writes the words to the screen, all on one line; for example:\n",
    "\n",
    "    One, two, buckle my shoe.\n",
    "\n",
    "As with Q6, you should write a number of functions each taking in the filename and returning the one-line string. Each function should solve the problem using a different method for reading the file.\n"
   ]
  },
  {
   "cell_type": "code",
   "execution_count": null,
   "metadata": {},
   "outputs": [],
   "source": [
    "# Write your code here"
   ]
  },
  {
   "cell_type": "markdown",
   "metadata": {},
   "source": [
    "## Question 8\n",
    "In fluid dynamics, the dimensionless Iribarren Number defined below is a parameter used to model waves on beaches and coastal structures. \n",
    "$$\\mbox{Iribarren Number}=\\frac{\\tan{\\alpha}}{\\sqrt{\\frac{H}{L}}}$$\n",
    "where  $\\alpha$ is the bed slope (in radians), $H$ is the breaking wave height (in meters) at the edge of the surf zone, and $L$ is the water wavelength (in meters).\n",
    "\n",
    "Depending on the Iribarren number, the breaking waves are classified into *spilling*, *plunging*, and *collapsing* or *surging* as follows\n",
    "\n",
    "| Wave type | Iribarren Number|\n",
    "| -------- | ------- |\n",
    "| surging or collapsing  | $3.3<\\mbox{IR}$|\n",
    "| plunging | $0.5 < \\mbox{IR} \\le 3.3$    |\n",
    "| spilling    | $\\mbox{IR} \\le 0.5$   |\n",
    "\n",
    "Write a function which takes as input parameter a string containing the bed slope, the wave height and the water wavelength as a string in the following format: \n",
    "\"number1,number2,number3\", e.g., `1.2,2.3,5.7` and returns a string indicating the type of wave: `surging or collapsing`, `plunging` and `spilling`. \n",
    "\n",
    "You can assume that:\n",
    "* the input string does not contain any white spaces\n",
    "* the three numbers are separated by commas\n",
    "* the three numbers are in their correct units\n",
    "* each of the three numbers may have any number of digits. The following are all valid inputs: `1,2,3`, `1.245,5.60,23`, `1.0,2.3456789,2.19`\n",
    "\n"
   ]
  },
  {
   "cell_type": "code",
   "execution_count": null,
   "metadata": {},
   "outputs": [],
   "source": [
    "# Complete the function here\n",
    "def IR(input_str):"
   ]
  }
 ],
 "metadata": {
  "kernelspec": {
   "display_name": "Python 3",
   "language": "python",
   "name": "python3"
  },
  "language_info": {
   "codemirror_mode": {
    "name": "ipython",
    "version": 3
   },
   "file_extension": ".py",
   "mimetype": "text/x-python",
   "name": "python",
   "nbconvert_exporter": "python",
   "pygments_lexer": "ipython3",
   "version": "3.8.5"
  }
 },
 "nbformat": 4,
 "nbformat_minor": 4
}
