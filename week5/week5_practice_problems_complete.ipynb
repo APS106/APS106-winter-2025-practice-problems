{
 "cells": [
  {
   "cell_type": "markdown",
   "metadata": {},
   "source": [
    "# Week 5\n",
    "This week covers:\n",
    "* Strings: Conversions, Indexing, Slicing, and Immutability\n",
    "* Introduction to Object-Oriented Programming and the File Object\n",
    "\n"
   ]
  },
  {
   "cell_type": "markdown",
   "metadata": {},
   "source": [
    "## Question 1\n",
    "Read one string from the user. Then, swap cases and print the result. In other words, convert all lowercase letters to uppercase letters and vice versa. You should solve this question twice.\n",
    "\n",
    "\n",
    "1. There is a str method that will do this for you and so after the input just call it.\n",
    "2.  But 1) is not much of an exercise, so you should also do it without calling that function!\n",
    "\n",
    "For example\n",
    "```\n",
    "Please input a string with upper and lower case letters:  aBc\n",
    "AbC\n",
    "```\n"
   ]
  },
  {
   "cell_type": "code",
   "execution_count": 1,
   "metadata": {},
   "outputs": [
    {
     "name": "stdin",
     "output_type": "stream",
     "text": [
      "Please input a string with upper and lower case letters:  aBc\n"
     ]
    },
    {
     "name": "stdout",
     "output_type": "stream",
     "text": [
      "AbC\n",
      "AbC\n",
      "AbC\n"
     ]
    }
   ],
   "source": [
    "# Write your code here.\n",
    "s = input(\"Please input a string with upper and lower case letters: \")\n",
    "\n",
    "# a. Do it with the str method swapcase\n",
    "swap_s = s.swapcase()\n",
    "print(swap_s)\n",
    "\n",
    "# b. Now do it by hard coding without calling swapcase\n",
    "swap_s = \"\"\n",
    "i = 0\n",
    "while i < len(s):\n",
    "    ch = s[i]\n",
    "    if ch.islower():\n",
    "        new_ch = ch.upper()\n",
    "    else:\n",
    "        new_ch = ch.lower()\n",
    "        \n",
    "    swap_s += new_ch\n",
    "    i += 1\n",
    "\n",
    "print(swap_s)\n",
    "\n",
    "# c. Now with no str methods\n",
    "swap_s = \"\"\n",
    "i = 0\n",
    "upper_to_lower_conversion = ord('A') - ord('a')\n",
    "while i < len(s):\n",
    "    ch = s[i]\n",
    "    if ord('a') <= ord(ch) <= ord('z'):\n",
    "        new_ch = chr(ord(ch) + upper_to_lower_conversion)\n",
    "    elif ord('A') <= ord(ch) <= ord('Z'):\n",
    "        new_ch = chr(ord(ch) - upper_to_lower_conversion)\n",
    "    else:\n",
    "        new_ch = ch # not a letter\n",
    "                    # Why to I need an if-elif-else here but not above?\n",
    "        \n",
    "    swap_s += new_ch\n",
    "    i += 1\n",
    "\n",
    "print(swap_s)"
   ]
  },
  {
   "cell_type": "markdown",
   "metadata": {},
   "source": [
    "## Question 2\n",
    "Get one string from the user, remove all exclamation and question marks from it, and output the resulting string. \n",
    "\n",
    "Example:\n",
    "* Input: `Hello!`, Output: `Hello`\n",
    "* Input: `How are you?`, Output: `How are you`\n",
    "\n",
    "1. There is a str method that will do this for you (if you use it correctly) and so after the input just call it.\n",
    "2. But 1) is not much of an exercise, so you should also do it without calling that function!\n"
   ]
  },
  {
   "cell_type": "code",
   "execution_count": 2,
   "metadata": {},
   "outputs": [
    {
     "name": "stdin",
     "output_type": "stream",
     "text": [
      "Please enter a string with question and exclamation marks in it:  Hello!\n"
     ]
    },
    {
     "name": "stdout",
     "output_type": "stream",
     "text": [
      "Hello\n",
      "Hello\n"
     ]
    }
   ],
   "source": [
    "# Write your code here.\n",
    "s = input(\"Please enter a string with question and exclamation marks in it: \")\n",
    "\n",
    "# do it with a string method\n",
    "new_s = s.replace(\"!\",\"\")\n",
    "new_s = new_s.replace(\"?\",\"\")\n",
    "print(new_s)\n",
    "\n",
    "# do it by hard coding\n",
    "new_s = \"\"\n",
    "i = 0\n",
    "while i < len(s):\n",
    "    c = s[i]\n",
    "    if c != \"!\" and c != \"?\":\n",
    "        new_s += c\n",
    "    i += 1\n",
    "        \n",
    "print(new_s)"
   ]
  },
  {
   "cell_type": "markdown",
   "metadata": {},
   "source": [
    "## Question 3\n",
    "1. Prompt the user to enter their full name and, using only string comparison functions, decide if the string starts with your first name.  If it does, print out `How did you know my name?`. If it doesn’t, print out `It's rude to not know my name.`\n",
    "\n",
    "2. Write a function that takes two strings and returns `True` if the two \"match\", where this time \"matching\" is not case sensitive. (So `Smith` and `smitH` match). Redo part a) using this function. \n",
    "\n"
   ]
  },
  {
   "cell_type": "markdown",
   "metadata": {},
   "source": [
    "### Part 1"
   ]
  },
  {
   "cell_type": "code",
   "execution_count": 3,
   "metadata": {},
   "outputs": [
    {
     "name": "stdin",
     "output_type": "stream",
     "text": [
      "Please enter your full name (first<space>last):  Sam K\n"
     ]
    },
    {
     "name": "stdout",
     "output_type": "stream",
     "text": [
      "How did you know my name?\n"
     ]
    }
   ],
   "source": [
    "# Write your code here.\n",
    "\n",
    "s = input(\"Please enter your full name (first<space>last): \")\n",
    "first_name = \"Sam\"\n",
    "\n",
    "if len(s) >= len(first_name) and first_name == s[0:len(first_name)]:\n",
    "    print(\"How did you know my name?\")\n",
    "else:\n",
    "    print(\"It’s rude to not know my name.\")\n"
   ]
  },
  {
   "cell_type": "markdown",
   "metadata": {},
   "source": [
    "### Part 2"
   ]
  },
  {
   "cell_type": "code",
   "execution_count": 4,
   "metadata": {},
   "outputs": [
    {
     "name": "stdin",
     "output_type": "stream",
     "text": [
      "Please enter your full name (first<space>last):  Chris K\n"
     ]
    },
    {
     "name": "stdout",
     "output_type": "stream",
     "text": [
      "How did you know my name?\n"
     ]
    }
   ],
   "source": [
    "def string_match(s1, s2):\n",
    "    '''\n",
    "    (str, str) -> bool\n",
    "    Returns True of the strings are identical. Not case sensitive.\n",
    "    '''\n",
    "    return s1.lower() == s2.lower()\n",
    "\n",
    "s = input(\"Please enter your full name (first<space>last): \")\n",
    "first_name = \"chris\"\n",
    "\n",
    "if len(s) >= len(first_name) and string_match(first_name, s[0:len(first_name)]):\n",
    "    print(\"How did you know my name?\")\n",
    "else:\n",
    "    print(\"It’s rude to not know my name.\")\n",
    "\n",
    "# Bonus question: why did I check len(s) >= len(first_name)?"
   ]
  },
  {
   "cell_type": "markdown",
   "metadata": {},
   "source": [
    "## Question 4\n",
    "Redo Question 2 from [Week 4](https://jupyter.utoronto.ca/hub/user-redirect/git-pull?repo=https%3A%2F%2Fgithub.com%2FAPS106%2FAPS106-winter-2025-practice-problems&urlpath=tree%2FAPS106-winter-2025-practice-problems%2Fweek4%2Fweek4_practice_problems_starter.ipynb&branch=master) using strings. That is, write a function that takes in a positive integer of any size and returns the \"flipped\" version (that is, with its digits reversed). For example:\n",
    "\n",
    "    Enter a positive number:  90177\n",
    "    That number flipped is 77109\n",
    "\n",
    "Use string functions to do it. Note that the function should still have a type contract of `(int)->int`. It is only inside the function that you are allowed to use strings.\n"
   ]
  },
  {
   "cell_type": "code",
   "execution_count": 5,
   "metadata": {},
   "outputs": [
    {
     "name": "stdin",
     "output_type": "stream",
     "text": [
      "Enter a positive integer:  123450\n"
     ]
    },
    {
     "name": "stdout",
     "output_type": "stream",
     "text": [
      "String version:  54321\n",
      "Int version:  54321\n"
     ]
    }
   ],
   "source": [
    "# Write your code here\n",
    "\n",
    "# string version 1\n",
    "# Represent the user’s input as a string and investigate the \n",
    "#  string methods to do it.\n",
    "def flip_number_string(num):\n",
    "    '''(int) -> int\n",
    "    Return the integer with its digits reversed \n",
    "    '''\n",
    "    s = str(num)\n",
    "    # uses extended slicing syntax \n",
    "    # (see https://stackoverflow.com/questions/931092/reverse-a-string-in-python)    \n",
    "    return int(s[::-1]) \n",
    "\n",
    "\n",
    "# Version 2\n",
    "# Represent the user’s input as a integer and use the arithmetic \n",
    "#    operators to do it.\n",
    "def flip_number_int(num):\n",
    "    '''(int) -> int\n",
    "    Return the integer with its digits reversed \n",
    "    '''\n",
    "\n",
    "    flipped = 0\n",
    "    while num > 0:   \n",
    "        ones_digit = num % 10\n",
    "        num //= 10\n",
    "        flipped = 10 * flipped + ones_digit\n",
    "        #print(ones_digit, num, flipped)\n",
    "        \n",
    "    return flipped\n",
    "\n",
    "\n",
    "num = int(input(\"Enter a positive integer: \"))\n",
    "\n",
    "print(\"String version: \", flip_number_string(num))\n",
    "\n",
    "print(\"Int version: \", flip_number_int(num))\n"
   ]
  },
  {
   "cell_type": "markdown",
   "metadata": {},
   "source": [
    "## Question 5\n",
    "DNA has 4 nucleotides: adenine (A), thymine (T), cytosine (C), and guanine (G). A strand of DNA can be represented as a string of A, T, C, and G. A double helix contains two strands that are \"mirror images\" of each other in the sense that A is swapped with T and C is swapped with G. For example, here are two paired strands:\n",
    "\n",
    "    ATGGGCAATCGATGGCCTAATCTCTCTAAG\n",
    "    TACCCGTTAGCTACCGGATTAGAGAGATTC\n",
    "\n",
    "Notice that each A in the top strand has a corresponding T in the bottom one and vice versa. Same for C and G.\n",
    "\n",
    "Write a function that takes in a DNA strand and produces its matching counterpart in a double helix. \n",
    "\n",
    "There are a few ways to solve this problem see how many you can come up with.\n",
    "\n",
    "Hint: You are going to have to be a bit clever with how you use the methods to get this right.\n"
   ]
  },
  {
   "cell_type": "code",
   "execution_count": 6,
   "metadata": {},
   "outputs": [
    {
     "name": "stdout",
     "output_type": "stream",
     "text": [
      "ATGGGCAATCGATGGCCTAATCTCTCTAAG\n",
      "TACCCGTTAGCTACCGGATTAGAGAGATTC\n"
     ]
    }
   ],
   "source": [
    "# Create a helper function since the code basically does the \n",
    "# same thing for A <-> T and C <-> G\n",
    "def swap_base_pair(dna, n1, n2):\n",
    "    '''\n",
    "    (str, str, str) -> str\n",
    "    Replace all occurences of n1 with n2 and all occurences of n2 with n1\n",
    "    in dna string\n",
    "    '''\n",
    "    \n",
    "    dna = dna.replace(n2, \"*\")  # replace n2 with *\n",
    "    dna = dna.replace(n1, n2)   # replace n1 with n2\n",
    "    dna = dna.replace(\"*\", n1)  # replace * with n1\n",
    "    \n",
    "    return dna\n",
    "\n",
    "# Bonus question: Why doesn't the following work?\n",
    "# dna = dna.replace(n2, n1)  # replace n2 with n1\n",
    "# dna = dna.replace(n1, n2)   # replace n1 with n2\n",
    "    \n",
    "def duplicate_DNA_strand(dna):\n",
    "    '''\n",
    "    (string) -> string\n",
    "    Takes in a string of nucleotide letters (ATGC)\n",
    "    and returns the matching DNA where:\n",
    "      A <-> T\n",
    "      C <-> G\n",
    "    '''\n",
    "    dna = swap_base_pair(dna,\"A\",\"T\")\n",
    "    dna = swap_base_pair(dna,\"C\",\"G\")\n",
    "    return dna\n",
    "\n",
    "chrome_4 = \"ATGGGCAATCGATGGCCTAATCTCTCTAAG\"\n",
    "print(chrome_4,duplicate_DNA_strand(chrome_4),sep=\"\\n\")"
   ]
  },
  {
   "cell_type": "markdown",
   "metadata": {},
   "source": [
    "## Question 6\n",
    "Write a program that creates a copy of `grades.txt`, by reading each grade from the original file, and then writing that value to a file of a different name.\n",
    "\n",
    "We'll be looking at a number of different ways that this problem can be solved (see Ch 10 in your textbook). You should write three functions each solving the problem using different methods for reading the file. (Don't worry about `readlines()` yet).\n"
   ]
  },
  {
   "cell_type": "code",
   "execution_count": 7,
   "metadata": {},
   "outputs": [],
   "source": [
    "def copy_file_readlines(in_name, out_name):\n",
    "    ''' (str,str) -> None\n",
    "    Read the file in in_name and output it to out_name\n",
    "    '''\n",
    "    \n",
    "    with open(in_name, 'r') as in_file,\\\n",
    "         open(out_name, 'w') as out_file:\n",
    "        text = in_file.readlines()\n",
    "        for line in text:\n",
    "            out_file.write(line)\n",
    "\n",
    "\n",
    "\n",
    "def copy_file_read(in_name, out_name):\n",
    "    ''' (str,str) -> None\n",
    "    Read the file in in_name and output it to out_name\n",
    "    '''\n",
    "    \n",
    "\n",
    "    with open(in_name, 'r') as in_file,\\\n",
    "         open(out_name, 'w') as out_file:\n",
    "        out_file.write(in_file.read())\n",
    "\n",
    "\n",
    "def copy_file_readline(in_name, out_name):\n",
    "    ''' (str,str) -> None\n",
    "    Read the file in in_name and output it to out_name\n",
    "    '''\n",
    "    \n",
    "    with open(in_name, 'r') as in_file,\\\n",
    "         open(out_name, 'w') as out_file:\n",
    "        text = in_file.readline()\n",
    "        while text != \"\":\n",
    "            out_file.write(text)\n",
    "            text = in_file.readline()\n",
    "\n",
    "\n",
    "def copy_file_for(in_name, out_name):\n",
    "    ''' (str,str) -> None\n",
    "    Read the file in in_name and output it to out_name\n",
    "    '''\n",
    "    \n",
    "    with open(in_name, 'r') as in_file, \\\n",
    "         open(out_name, 'w') as out_file:\n",
    "        for text in in_file:    \n",
    "            out_file.write(text)\n",
    "\n",
    "\n",
    "copy_file_readlines(\"grades.txt\", \"readlines.txt\")\n",
    "copy_file_read(\"readlines.txt\", \"read.txt\")\n",
    "copy_file_readline(\"read.txt\", \"readline.txt\")\n",
    "copy_file_readline(\"readline.txt\", \"for.txt\")\n"
   ]
  },
  {
   "cell_type": "markdown",
   "metadata": {},
   "source": [
    "## Question 7\n",
    "Open the file `onetwo.txt` with a simple text editor (e.g., Notepad on Windows or TextEdit on a Mac), and you’ll discover a sentence, but with each word on a separate line:\n",
    "\n",
    "    One,\n",
    "    two,\n",
    "    buckle\n",
    "    my\n",
    "    shoe.\n",
    "\n",
    "Remember that although you can’t see them, the file contains newline characters at the end of each line.  Write a program that reads the input file, and writes the words to the screen, all on one line; for example:\n",
    "\n",
    "    One, two, buckle my shoe.\n",
    "\n",
    "As with Q6, you should write a number of functions each taking in the filename and returning the one-line string. Each function should solve the problem using a different method for reading the file.\n"
   ]
  },
  {
   "cell_type": "code",
   "execution_count": 8,
   "metadata": {},
   "outputs": [
    {
     "name": "stdout",
     "output_type": "stream",
     "text": [
      "One, two, buckle my shoe. \n",
      "One, two, buckle my shoe.\n",
      "One, two, buckle my shoe. \n",
      "One, two, buckle my shoe. \n"
     ]
    }
   ],
   "source": [
    "# Write your code here\n",
    "def convert_to_one_line_readlines(filename):\n",
    "    ''' (str) -> None\n",
    "    Read in the file in filename and write it out in one line, separated by spaces\n",
    "    '''\n",
    "    \n",
    "    s = \"\"\n",
    "    with open(filename, \"r\") as infile:\n",
    "        text = infile.readlines()\n",
    "        for line in text:\n",
    "            # add line onto s after removing the \\n and adding a space\n",
    "            s = s + line.rstrip('\\n') + \" \"\n",
    "\n",
    "    return s\n",
    "\n",
    "def convert_to_one_line_read(filename):\n",
    "    ''' (str) -> None\n",
    "    Read in the file in filename and write it out in one line, separated by spaces\n",
    "    '''\n",
    "    \n",
    "    with open(filename, \"r\") as infile:\n",
    "        text = infile.read()\n",
    "        # replace all the \\n with spaces\n",
    "        s = text.replace(\"\\n\", \" \")\n",
    "\n",
    "    return s\n",
    "\n",
    "def convert_to_one_line_readline(filename):\n",
    "    ''' (str) -> None\n",
    "    Read in the file in filename and write it out in one line, separated by spaces\n",
    "    '''\n",
    "    \n",
    "    s = \"\"\n",
    "    with open(filename, \"r\") as infile:\n",
    "        text = infile.readline()\n",
    "        while text != \"\":\n",
    "            # add text onto s after removing the \\n and adding a space\n",
    "            s = s + text.rstrip('\\n') + \" \"\n",
    "            text = infile.readline()\n",
    "            \n",
    "    return s\n",
    "\n",
    "def convert_to_one_line_for(filename):\n",
    "    ''' (str) -> None\n",
    "    Read in the file in filename and write it out in one line, separated by spaces\n",
    "    '''\n",
    "    \n",
    "    s = \"\"\n",
    "    with open(filename, \"r\") as infile:\n",
    "        for text in infile:\n",
    "            # add text onto s after removing the \\n and adding a space\n",
    "            s = s + text.rstrip('\\n') + \" \"\n",
    "\n",
    "    return s\n",
    "\n",
    "s = convert_to_one_line_readlines(\"onetwo.txt\")\n",
    "print(s)\n",
    "s = convert_to_one_line_read(\"onetwo.txt\")\n",
    "print(s)\n",
    "s = convert_to_one_line_readline(\"onetwo.txt\")\n",
    "print(s)\n",
    "s = convert_to_one_line_for(\"onetwo.txt\")\n",
    "print(s)"
   ]
  },
  {
   "cell_type": "markdown",
   "metadata": {},
   "source": [
    "## Question 8\n",
    "In fluid dynamics, the dimensionless Iribarren Number defined below is a parameter used to model waves on beaches and coastal structures. \n",
    "$$\\mbox{Iribarren Number}=\\frac{\\tan{\\alpha}}{\\sqrt{\\frac{H}{L}}}$$\n",
    "where  $\\alpha$ is the bed slope (in radians), $H$ is the breaking wave height (in meters) at the edge of the surf zone, and $L$ is the water wavelength (in meters).\n",
    "\n",
    "Depending on the Iribarren number, the breaking waves are classified into *spilling*, *plunging*, and *collapsing* or *surging* as follows\n",
    "\n",
    "| Wave type | Iribarren Number|\n",
    "| -------- | ------- |\n",
    "| surging or collapsing  | $3.3<\\mbox{IR}$|\n",
    "| plunging | $0.5 < \\mbox{IR} \\le 3.3$    |\n",
    "| spilling    | $\\mbox{IR} \\le 0.5$   |\n",
    "\n",
    "Write a function which takes as input parameter a string containing the bed slope, the wave height and the water wavelength as a string in the following format: \n",
    "\"number1,number2,number3\", e.g., `1.2,2.3,5.7` and returns a string indicating the type of wave: `surging or collapsing`, `plunging` and `spilling`. \n",
    "\n",
    "You can assume that:\n",
    "* the input string does not contain any white spaces\n",
    "* the three numbers are separated by commas\n",
    "* the three numbers are in their correct units\n",
    "* each of the three numbers may have any number of digits. The following are all valid inputs: `1,2,3`, `1.245,5.60,23`, `1.0,2.3456789,2.19`\n",
    "\n"
   ]
  },
  {
   "cell_type": "code",
   "execution_count": 9,
   "metadata": {},
   "outputs": [
    {
     "name": "stdout",
     "output_type": "stream",
     "text": [
      "surging or collapsing\n",
      "plunging\n",
      "surging or collapsing\n",
      "plunging\n"
     ]
    }
   ],
   "source": [
    "import math\n",
    "\n",
    "def wave_type(wave_parameters):\n",
    "    '''\n",
    "    (str) -> str\n",
    "    Return the type of wave, \"surging or collapsing\", \"plunging\"\n",
    "    or \"spilling\", according to the wave's Iribarren number.\n",
    "    '''\n",
    "    # find the two separators\n",
    "    first_separator = wave_parameters.find(\",\")\n",
    "    second_separator = wave_parameters.rfind(\",\")\n",
    "    \n",
    "    # extract Iribarren parameters and cast to float\n",
    "    alpha = float(wave_parameters[:first_separator])\n",
    "    H = float(wave_parameters[first_separator + 1:\n",
    "                              second_separator])\n",
    "    L = float(wave_parameters[second_separator + 1:])\n",
    "    \n",
    "    # calculate the Iribarren number\n",
    "    Ir = math.tan(alpha) / math.sqrt(H/L)\n",
    "    \n",
    "    # determine the type of wave\n",
    "    if Ir <= 0.5:   \n",
    "        type = \"spilling\"\n",
    "    elif Ir <= 3.3:\n",
    "        type = \"plunging\"\n",
    "    else:\n",
    "        type = \"surging or collapsing\"\n",
    "        \n",
    "    return type\n",
    "\n",
    "print(wave_type(\"1.2,2.3,5.7\"))\n",
    "print(wave_type(\"1,2,3\"))\n",
    "print(wave_type(\"1.245,5.60,23\"))\n",
    "print(wave_type(\"1.0,2.3456789,2.19\"))"
   ]
  }
 ],
 "metadata": {
  "kernelspec": {
   "display_name": "Python 3",
   "language": "python",
   "name": "python3"
  },
  "language_info": {
   "codemirror_mode": {
    "name": "ipython",
    "version": 3
   },
   "file_extension": ".py",
   "mimetype": "text/x-python",
   "name": "python",
   "nbconvert_exporter": "python",
   "pygments_lexer": "ipython3",
   "version": "3.8.5"
  }
 },
 "nbformat": 4,
 "nbformat_minor": 4
}
