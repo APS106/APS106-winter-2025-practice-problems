{
 "cells": [
  {
   "cell_type": "markdown",
   "metadata": {},
   "source": [
    "# Week 3 Practice Problems\n",
    "\n",
    "This week's problem cover the follow topics:\n",
    "* Conditional Statements \n",
    "* String Comparisons and More On If-Statements "
   ]
  },
  {
   "cell_type": "markdown",
   "metadata": {},
   "source": [
    "## Question 1\n",
    "\n",
    "Write a function that takes the role of a store clerk. \n",
    "\n",
    "Ask a user to enter two floating point numbers: the *cost* of an item and the *amount of money* remitted to pay for the item.  \n",
    "Then respond appropriately: calculate the change due to the customer *or* ask the customer for more money. \n",
    "\n",
    "For example:\n",
    "```\n",
    "Cost of the item: 3.56\n",
    "Amount tendered: 5.00\n",
    "Change: 1.44\n",
    "```\n",
    "or\n",
    "```\n",
    "Cost of the item: 3.56\n",
    "Amount tendered: 3.00\n",
    "Still due: 0.56\n",
    "```\n",
    "**Note:** print out the change and amount due to two decimal places"
   ]
  },
  {
   "cell_type": "code",
   "execution_count": 1,
   "metadata": {},
   "outputs": [],
   "source": [
    "# Complete the function in this cell\n",
    "def clerk_calc(cost, tendered ):\n",
    "    '''\n",
    "    (float, float) -> None\n",
    "    Determine change or amount due according to the cost of the item and tendered amount\n",
    "    '''\n",
    "\n",
    "    if cost > tendered:\n",
    "        print(\"Still due:\", round(cost - tendered, 2) )\n",
    "    else:\n",
    "        print(\"Change:\", round(tendered - cost, 2) )\n",
    "    "
   ]
  },
  {
   "cell_type": "code",
   "execution_count": 2,
   "metadata": {},
   "outputs": [
    {
     "name": "stdin",
     "output_type": "stream",
     "text": [
      "Cost of the item:  3.83\n",
      "Amount tendered:  5\n"
     ]
    },
    {
     "name": "stdout",
     "output_type": "stream",
     "text": [
      "Change: 1.17\n"
     ]
    }
   ],
   "source": [
    "# Test your function here. \n",
    "cost = float(input(\"Cost of the item: \"))\n",
    "tendered = float(input(\"Amount tendered: \"))\n",
    "clerk_calc(cost, tendered )"
   ]
  },
  {
   "cell_type": "markdown",
   "metadata": {},
   "source": [
    "## Question 2\n",
    "\n",
    "Combine Q1 above with Question 2 from [Week 2](https://jupyter.utoronto.ca/hub/user-redirect/git-pull?repo=https%3A%2F%2Fgithub.com%2FAPS106%2FAPS106-winter-2025-practice-problems&urlpath=tree%2FAPS106-winter-2025-practice-problems%2Fweek2%2Fweek2_practice_problems_starter.ipynb&branch=master) such that if in this Q1 you owe the customer some change, calculate the minimum number of \\\\$100, \\\\$50, \\\\$20, \\\\$10, \\\\$5, toonies, loonies, quarters, dimes, nickels, and pennies needed to make up that amount. Modify the function from Q2 of Week 2 to print out the way to make the change.\n",
    "\n",
    "For example\n",
    "\n",
    "```\n",
    "Cost of the item:  200.25\n",
    "Amount tendered:  220\n",
    "Change: 19.75\n",
    "0.0 $100 bill(s), 0 $50 bill(s), 0 $20 bill(s), 1 $10 bill(s), 1 $5 bill(s), 2 toonies, 0 loonies, 3 quarters, 0 dimes, 0 nickels, 0 penny(ies)\n",
    "```\n",
    "\n"
   ]
  },
  {
   "cell_type": "code",
   "execution_count": 3,
   "metadata": {},
   "outputs": [],
   "source": [
    "def clerk_calc(cost, tendered):\n",
    "    '''(int) -> NoneType\n",
    "    num is a dollar figure and may not be integer\n",
    "    Print out the number of $100, $50, $20, toonies, loonies, quarters, dimes, \n",
    "    nickels, and pennies needed to make up num dollars\n",
    "    '''\n",
    "\n",
    "    \n",
    " \n",
    "    if cost > tendered:\n",
    "        print(\"Still due:\", round(cost - tendered,2))\n",
    "    else:\n",
    "        change = round(tendered - cost,2)\n",
    "        print(\"Change:\", change)   \n",
    "        \n",
    "        \n",
    "\n",
    "        # since we are using 2 decimal points with money, multiple dollar\n",
    "        # by 100 and then just use ints. In other words, do everything in\n",
    "        # cents\n",
    "        \n",
    "        change *= 100\n",
    "\n",
    "        change_100 = change // 10000\n",
    "        change -= change_100 * 10000\n",
    "\n",
    "        change_50 = round(change) // 5000\n",
    "        change -= change_50 * 5000\n",
    "\n",
    "        change_20 = round(change) // 2000\n",
    "        change -= change_20 * 2000\n",
    "\n",
    "        change_10 = round(change) // 1000\n",
    "        change -= change_10 * 1000\n",
    "\n",
    "        change_5 = round(change) // 500\n",
    "        change -= change_5 * 500\n",
    "\n",
    "        change_2 = round(change) // 200\n",
    "        change -= change_2 * 200\n",
    "\n",
    "        change_1 = round(change) // 100\n",
    "        change -= change_1 * 100\n",
    "\n",
    "        change_quarters = round(change) // 25\n",
    "        change -= change_quarters * 25\n",
    "\n",
    "        change_dimes = round(change) // 10\n",
    "        change -= change_dimes * 10\n",
    "\n",
    "        change_nickels = round(change) // 5\n",
    "        change -= change_nickels * 5\n",
    "\n",
    "        change = round(change)\n",
    "\n",
    "        print(change_100, \"$100 bill(s),\", \n",
    "              change_50, \"$50 bill(s),\", \n",
    "              change_20, \"$20 bill(s),\", \n",
    "              change_10, \"$10 bill(s),\", \n",
    "              change_5, \"$5 bill(s),\",\n",
    "              change_2, \"toonies,\",\n",
    "              change_1, \"loonies,\",\n",
    "              change_quarters, \"quarters,\",\n",
    "              change_dimes, \"dimes,\", \n",
    "              change_nickels, \"nickels,\",\n",
    "              change, \"penny(ies)\")\n"
   ]
  },
  {
   "cell_type": "code",
   "execution_count": 4,
   "metadata": {},
   "outputs": [
    {
     "name": "stdin",
     "output_type": "stream",
     "text": [
      "Cost of the item:  3.85\n",
      "Amount tendered:  5\n"
     ]
    },
    {
     "name": "stdout",
     "output_type": "stream",
     "text": [
      "Change: 1.15\n",
      "0.0 $100 bill(s), 0 $50 bill(s), 0 $20 bill(s), 0 $10 bill(s), 0 $5 bill(s), 0 toonies, 1 loonies, 0 quarters, 1 dimes, 1 nickels, 0 penny(ies)\n"
     ]
    }
   ],
   "source": [
    "# Test your function here. \n",
    "cost = float(input(\"Cost of the item: \"))\n",
    "tendered = float(input(\"Amount tendered: \")) \n",
    "clerk_calc( cost, tendered)"
   ]
  },
  {
   "cell_type": "markdown",
   "metadata": {},
   "source": [
    "## Question 3\n",
    "You may have already realized that Canada  no longer have pennies in circulation. Therefore, let's write a function that round a number to the nearest nickels.\n",
    "\n",
    "For example, \\\\$1.53 is rounded to \\\\$1.55, \\\\$2.47 is rounded to \\\\$2.45, \\\\$4.42 is rounded to \\\\$4.40.\n",
    "\n",
    "The function should take in the change as the input as return the rounded as the output"
   ]
  },
  {
   "cell_type": "code",
   "execution_count": 5,
   "metadata": {},
   "outputs": [],
   "source": [
    "def round_to_nickel(change):\n",
    "    '''(float) -> float\n",
    "    change is a dollar figure rounded to two decimal places. Returns change\n",
    "    rounded to nearest nickel.\n",
    "    '''\n",
    "    change = int(change * 100) # convert to cents (and an int)\n",
    "    pennies = change % 10      # get ones digit (i.e., the # of pennies)\n",
    "    change -= pennies          # subtract current pennies\n",
    "    \n",
    "    new_pennies = 0\n",
    "    if pennies >= 8:\n",
    "        new_pennies = 10 # need to round up to 10 cents\n",
    "    elif pennies >= 3:\n",
    "        new_pennies = 5  # need to round (up or down) to 5 cents\n",
    "        \n",
    "    return (change + new_pennies) / 100 # remember to convert back to dollars"
   ]
  },
  {
   "cell_type": "code",
   "execution_count": 6,
   "metadata": {},
   "outputs": [
    {
     "name": "stdout",
     "output_type": "stream",
     "text": [
      "4.4\n"
     ]
    }
   ],
   "source": [
    "# You should test the function before proceeding to the next step\n",
    "print(round_to_nickel(4.42))"
   ]
  },
  {
   "cell_type": "markdown",
   "metadata": {},
   "source": [
    "Then, slightly modify the function in Question 2 but now without pennies. You should use the function `round_to_nickel` in some way.\n",
    "\n",
    "For example:\n",
    "```\n",
    "Cost of the item:  0.03\n",
    "Amount tendered:  1\n",
    "Change: 0.97\n",
    "Rounded change: 0.95\n",
    "0 $100 bill(s), 0 $50 bill(s), 0 $20 bill(s), 0 $10 bill(s), 0 $5 bill(s), 0 toonies, 0 loonies, 3 quarters, 2 dimes, 0 nickels\n",
    "```\n",
    "\n"
   ]
  },
  {
   "cell_type": "code",
   "execution_count": 7,
   "metadata": {},
   "outputs": [],
   "source": [
    "def clerk_calc(cost, tendered):\n",
    "    '''(int) -> NoneType\n",
    "    num is a dollar figure and may not be integer\n",
    "    Print out the number of $100, $50, $20, toonies, loonies, quarters, dimes, \n",
    "    nickels, and pennies needed to make up num dollars\n",
    "    '''\n",
    "\n",
    "    \n",
    " \n",
    "    if cost > tendered:\n",
    "        print(\"Still due:\", round(cost - tendered,2))\n",
    "    else:\n",
    "        change = round(tendered - cost,2)\n",
    "        print(\"Change:\", change)\n",
    "        rounded_change  = round_to_nickel(change)\n",
    "        print(\"Rounded change:\", rounded_change)\n",
    "           \n",
    "        \n",
    "        \n",
    "\n",
    "        # since we are using 2 decimal points with money, multiple dollar\n",
    "        # by 100 and then just use ints. In other words, do everything in\n",
    "        # cents\n",
    "        \n",
    "        rounded_change *= 100\n",
    "\n",
    "        rounded_change_100 = rounded_change // 10000\n",
    "        rounded_change -= rounded_change_100 * 10000\n",
    "\n",
    "        rounded_change_50 = round(rounded_change) // 5000\n",
    "        rounded_change -= rounded_change_50 * 5000\n",
    "\n",
    "        rounded_change_20 = round(rounded_change) // 2000\n",
    "        rounded_change -= rounded_change_20 * 2000\n",
    "\n",
    "        rounded_change_10 = round(rounded_change) // 1000\n",
    "        rounded_change -= rounded_change_10 * 1000\n",
    "\n",
    "        rounded_change_5 = round(rounded_change) // 500\n",
    "        rounded_change -= rounded_change_5 * 500\n",
    "\n",
    "        rounded_change_2 = round(rounded_change) // 200\n",
    "        rounded_change -= rounded_change_2 * 200\n",
    "\n",
    "        rounded_change_1 = round(rounded_change) // 100\n",
    "        rounded_change -= rounded_change_1 * 100\n",
    "\n",
    "        rounded_change_quarters = round(rounded_change) // 25\n",
    "        rounded_change -= rounded_change_quarters * 25\n",
    "\n",
    "        rounded_change_dimes = round(rounded_change) // 10\n",
    "        rounded_change -= rounded_change_dimes * 10\n",
    "        \n",
    "        rounded_change_nickels = round(rounded_change) // 5\n",
    "        rounded_change -= rounded_change_nickels * 5\n",
    "        \n",
    "\n",
    "        assert round(rounded_change) == 0 # Make sure there is nothing left\n",
    "\n",
    "        print(rounded_change_100, \"$100 bill(s),\", \n",
    "              rounded_change_50, \"$50 bill(s),\", \n",
    "              rounded_change_20, \"$20 bill(s),\", \n",
    "              rounded_change_10, \"$10 bill(s),\", \n",
    "              rounded_change_5, \"$5 bill(s),\",\n",
    "              rounded_change_2, \"toonies,\",\n",
    "              rounded_change_1, \"loonies,\",\n",
    "              rounded_change_quarters, \"quarters,\",\n",
    "              rounded_change_dimes, \"dimes,\", \n",
    "              rounded_change_nickels, \"nickels\")\n"
   ]
  },
  {
   "cell_type": "code",
   "execution_count": 8,
   "metadata": {},
   "outputs": [
    {
     "name": "stdin",
     "output_type": "stream",
     "text": [
      "Cost of the item:  3.83\n",
      "Amount tendered:  5\n"
     ]
    },
    {
     "name": "stdout",
     "output_type": "stream",
     "text": [
      "Change: 1.17\n",
      "Rounded change: 1.15\n",
      "0.0 $100 bill(s), 0 $50 bill(s), 0 $20 bill(s), 0 $10 bill(s), 0 $5 bill(s), 0 toonies, 1 loonies, 0 quarters, 1 dimes, 1 nickels\n"
     ]
    }
   ],
   "source": [
    "# Test your function here. \n",
    "cost = float(input(\"Cost of the item: \"))\n",
    "tendered = float(input(\"Amount tendered: \")) \n",
    "clerk_calc( cost, tendered)"
   ]
  },
  {
   "cell_type": "markdown",
   "metadata": {},
   "source": [
    "## Question 4\n",
    "\n",
    "Redo Question 5 from [Week 2](https://jupyter.utoronto.ca/hub/user-redirect/git-pull?repo=https%3A%2F%2Fgithub.com%2FAPS106%2FAPS106-winter-2025-practice-problems&urlpath=tree%2FAPS106-winter-2025-practice-problems%2Fweek2%2Fweek2_practice_problems_starter.ipynb&branch=master) but using an if-statement. Write a function that takes a positive integer input less than 100000 and returns an integer corresponding to the number of digits in the number. Use this function in a program that prompts the user for an integer and prints the number of digits in the user’s input. "
   ]
  },
  {
   "cell_type": "code",
   "execution_count": 9,
   "metadata": {},
   "outputs": [],
   "source": [
    "def count_digits(number):\n",
    "    '''\n",
    "    (int) -> int\n",
    "    Returns the number of digits in number. -1 is returned is the \n",
    "    number is greater than 99999\n",
    "    '''\n",
    "    # Doing it with an if\n",
    "    if number < 10:\n",
    "        return 1\n",
    "    elif number < 100:\n",
    "        return 2\n",
    "    elif number < 1000:\n",
    "        return 3\n",
    "    elif number < 10000:\n",
    "        return 4\n",
    "    elif number < 100000:\n",
    "        return 5\n",
    "    else:\n",
    "        return -1\n"
   ]
  },
  {
   "cell_type": "code",
   "execution_count": 10,
   "metadata": {},
   "outputs": [
    {
     "name": "stdin",
     "output_type": "stream",
     "text": [
      "Please input a number less than 100,000:  416\n"
     ]
    },
    {
     "name": "stdout",
     "output_type": "stream",
     "text": [
      "3\n"
     ]
    }
   ],
   "source": [
    "# Test your function here\n",
    "user_input = input(\"Please input a number less than 100,000: \")\n",
    "num  = float(user_input)\n",
    "print(count_digits(num))"
   ]
  },
  {
   "cell_type": "markdown",
   "metadata": {},
   "source": [
    "## Question 5\n",
    "Water exists in three states- solid, liquid, and gas. Write a function that takes in the temperature in Celsius and returns a string \"solid\", \"liquid\", or \"gas\" depending on the temperature. Write a program using this function that prompts the user for a temperature and prints out the resulting state of water.\n",
    "\n",
    "For example:\n",
    "\n",
    "```\n",
    "Enter a temperature in Celsius:  22\n",
    "Liquid\n",
    "```\n",
    "\n",
    "**Note**: the solution is not unique. You should try to solve this using different orderings of if-else logic."
   ]
  },
  {
   "cell_type": "code",
   "execution_count": 11,
   "metadata": {},
   "outputs": [],
   "source": [
    "def water_phase(temp):\n",
    "    '''\n",
    "    (number) -> string\n",
    "    Returns a string corresponding to the state of water at temp degrees\n",
    "    celsius\n",
    "    '''\n",
    "    if temp > 100:\n",
    "        return \"Steam\"\n",
    "    elif temp > 0:\n",
    "        return \"Liquid\"\n",
    "    else:\n",
    "        return \"Ice, ice, baby\"\n",
    "    \n",
    "def water_phase_alt(temp):\n",
    "    '''\n",
    "    (number) -> string\n",
    "    Returns a string corresponding to the state of water at temp degrees\n",
    "    celsius\n",
    "    '''\n",
    "    \n",
    "    if temp <= 0:\n",
    "        return \"Ice, ice, baby\"\n",
    "    elif degrees <= 100:\n",
    "        return \"Liquid\"\n",
    "    else:\n",
    "        return \"Steam\"\n",
    "\n",
    "def water_phase_alt2(temp):\n",
    "    '''\n",
    "    (number) -> string\n",
    "    Returns a string corresponding to the state of water at temp degrees\n",
    "    celsius\n",
    "    '''\n",
    "    \n",
    "    state = \"Ice, ice, baby\"\n",
    "    if degrees > 100:\n",
    "        state = \"Steam\"\n",
    "    elif degrees > 0:\n",
    "        state = \"Liquid\"\n",
    "    # why don't I need an else?\n",
    "    \n",
    "    return state\n"
   ]
  },
  {
   "cell_type": "code",
   "execution_count": 12,
   "metadata": {},
   "outputs": [
    {
     "name": "stdin",
     "output_type": "stream",
     "text": [
      "Enter a temperature in Celsius:  22\n"
     ]
    },
    {
     "name": "stdout",
     "output_type": "stream",
     "text": [
      "Liquid\n",
      "Liquid\n",
      "Liquid\n"
     ]
    }
   ],
   "source": [
    "# Test your function here\n",
    "\n",
    "degrees = int(input(\"Enter a temperature in Celsius: \"))\n",
    "\n",
    "print(water_phase(degrees))\n",
    "print(water_phase_alt(degrees))\n",
    "print(water_phase_alt2(degrees))\n"
   ]
  },
  {
   "cell_type": "markdown",
   "metadata": {},
   "source": [
    "## Question 6\n",
    "In fluid mechanics the dimensionless Reynolds Number ($\\mathrm{Re}$) is defined below, where $v$ is the speed of the fluid [m/s], $L$ is the characteristic length of the flow situation [m], and $n$ is the kinematic viscosity [m$^2$/s].\n",
    "\n",
    "\n",
    "$\\mathrm{Re} =  \\frac{v\\cdot L}{n}$\n",
    " \n",
    "The magnitude of the Reynolds Number tells if a flowing fluid is moving in a laminar, transitional, or turbulent mode. Two flow situations are of interest, flow in a pipe and flow on a flat plate.\n",
    " \n",
    "* For a pipe:\n",
    "    * When the Reynolds number is less than 2000, then the flow is laminar.\n",
    "    * When the Reynolds number is greater than or equal to 2000 and less than or equal to 4000, then the flow is transitional.\n",
    "    * When the Reynolds number is greater than 4000, then the flow is turbulent.\n",
    "* For a plate:\n",
    "    * When the Reynolds number is less than $5 \\times 10^5$, then the flow is laminar.\n",
    "    * When the Reynolds number is greater than or equal to $5 \\times 10^5$, then the flow is turbulent.\n",
    " \n",
    "\n",
    "Write a function that takes the speed of the fluid, the characteristic length, the kinematic viscosity, and the flow situation as arguments and returns a string indicating if the flow is \"laminar\", \"transitional\", or \"turbulent\".\n",
    "\n",
    "For example:\n",
    "\n",
    "```\n",
    "Enter speed: 13.4\n",
    "Enter length: 800\n",
    "Enter: viscosity: 1.2\n",
    "Enter flow situation:  pipe\n",
    "turbulent\n",
    "```\n",
    " \n",
    "You may assume that:\n",
    "* the first three arguments are positive numbers in the correct units.\n",
    "* the fourth argument is a string equal to \"pipe\" or \"plate\"\n",
    "\n",
    "\n",
    "\n"
   ]
  },
  {
   "cell_type": "code",
   "execution_count": 13,
   "metadata": {},
   "outputs": [],
   "source": [
    "def fluid_flow_mode(speed, length, viscosity, flow_situation):\n",
    "    \"\"\"\n",
    "    (float, float, float, str)->str\n",
    "    Returns the mode of the flow based on the calculation of the Reynolds number\n",
    "    \"\"\"\n",
    "    # Calculate Reynolds Number\n",
    "    reynolds = speed * length / viscosity\n",
    "    \n",
    "    # Find flow mode\n",
    "    if flow_situation == \"pipe\":\n",
    "        \n",
    "        if reynolds < 2000:\n",
    "            mode = \"laminar\"\n",
    "        elif reynolds <= 4000:\n",
    "            mode = \"transitional\"\n",
    "        else:\n",
    "            mode = \"turbulent\"\n",
    "            \n",
    "    else:\n",
    "        if reynolds < 500000:\n",
    "            mode = \"laminar\"\n",
    "        else:\n",
    "            mode = \"turbulent\"\n",
    "    \n",
    "    return mode\n",
    "\n",
    "# An alternative implementation\n",
    "def fluid_flow_mode_alt(speed, length, viscosity, flow_situation):\n",
    "    \"\"\"\n",
    "    (float, float, float, str)->str\n",
    "    Returns the mode of the flow based on the calculation of the Reynolds number\n",
    "    \"\"\"\n",
    "\n",
    "    # calculate Reynolds number\n",
    "    reynolds_num = (speed * length) / viscosity\n",
    "\n",
    "    mode = \"turbulent\"\n",
    "    \n",
    "    # find flow mode\n",
    "    if flow_situation == \"pipe\":\n",
    "        \n",
    "        if reynolds_num < 2000:\n",
    "            mode = \"laminar\" \n",
    "        elif reynolds_num <= 4000:\n",
    "            mode = \"transitional\"\n",
    "            \n",
    "    else:\n",
    "        \n",
    "        # flow_situation == plate\n",
    "        if reynolds_num < 5e5:\n",
    "            mode = \"laminar\"\n",
    "    \n",
    "    # Bonus question: why do we not need else statements in the nested ifs?\n",
    "    return mode"
   ]
  },
  {
   "cell_type": "code",
   "execution_count": 14,
   "metadata": {},
   "outputs": [
    {
     "name": "stdin",
     "output_type": "stream",
     "text": [
      "Enter speed: 13.4\n",
      "Enter length: 800\n",
      "Enter: viscosity: 1.2\n",
      "Enter flow situation:  pipe\n"
     ]
    },
    {
     "name": "stdout",
     "output_type": "stream",
     "text": [
      "turbulent\n"
     ]
    }
   ],
   "source": [
    "# Test your function here\n",
    "speed = float(input(\"Enter speed:\"))\n",
    "length = float(input(\"Enter length:\") )\n",
    "viscosity = float(input(\"Enter: viscosity:\"))\n",
    "flow_situation = input ( \"Enter flow situation: \")\n",
    "\n",
    "print(fluid_flow_mode(speed, length, viscosity, flow_situation))"
   ]
  },
  {
   "cell_type": "markdown",
   "metadata": {},
   "source": [
    "## Question 7\n",
    "Write a function that takes in three strings and print these three strings in an ordered form.\n",
    "\n",
    "For example,\n",
    "\n",
    "```\n",
    "word 1: MSFT\n",
    "word 2: apple\n",
    "word 3: APPL\n",
    "sorted: AAPL,MSFT,apple\n",
    "```"
   ]
  },
  {
   "cell_type": "code",
   "execution_count": 15,
   "metadata": {},
   "outputs": [],
   "source": [
    "def sort_words(word1, word2, word3):\n",
    "    \"\"\"\n",
    "    (str,str,str)->None\n",
    "    Sort three words.\n",
    "    \"\"\"\n",
    "    if word1 > word2:\n",
    "        word1, word2 = word2, word1\n",
    "    if word1 > word3:\n",
    "        word1, word3 = word3, word1\n",
    "    if word2 > word3:\n",
    "        word2, word3 = word3, word2\n",
    "    \n",
    "    print(\"sorted: \", word1, \",\", word2, \",\", word3, sep = \"\")\n"
   ]
  },
  {
   "cell_type": "code",
   "execution_count": 16,
   "metadata": {},
   "outputs": [
    {
     "name": "stdin",
     "output_type": "stream",
     "text": [
      "word 1: c\n",
      "word 2: b\n",
      "word 3: a\n"
     ]
    },
    {
     "name": "stdout",
     "output_type": "stream",
     "text": [
      "sorted: a,b,c\n"
     ]
    }
   ],
   "source": [
    "# Test your function here.\n",
    "word1 = input(\"word 1:\")\n",
    "word2 = input(\"word 2:\")\n",
    "word3 = input(\"word 3:\")\n",
    "\n",
    "sort_words(word1, word2, word3)"
   ]
  }
 ],
 "metadata": {
  "kernelspec": {
   "display_name": "Python 3",
   "language": "python",
   "name": "python3"
  },
  "language_info": {
   "codemirror_mode": {
    "name": "ipython",
    "version": 3
   },
   "file_extension": ".py",
   "mimetype": "text/x-python",
   "name": "python",
   "nbconvert_exporter": "python",
   "pygments_lexer": "ipython3",
   "version": "3.8.5"
  }
 },
 "nbformat": 4,
 "nbformat_minor": 4
}
