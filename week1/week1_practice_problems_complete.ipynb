{
 "cells": [
  {
   "cell_type": "markdown",
   "metadata": {},
   "source": [
    "# APS106 - Fundamentals of Computer Programming\n",
    "## Week 1 | Practice Problems\n",
    "\n",
    "### Question 1\n",
    "Write a program that simply prints `\"I am going to love this course\"` to the screen."
   ]
  },
  {
   "cell_type": "code",
   "execution_count": 1,
   "metadata": {},
   "outputs": [
    {
     "name": "stdout",
     "output_type": "stream",
     "text": [
      "I'm going to love this course\n"
     ]
    }
   ],
   "source": [
    "print(\"I'm going to love this course\")"
   ]
  },
  {
   "cell_type": "markdown",
   "metadata": {},
   "source": [
    "### Question 2\n",
    "Write a program that defines two integers, one being the largest 3-digit number and one being the smallest 5-digit number. Then, print these two values, and their sum to the screen."
   ]
  },
  {
   "cell_type": "code",
   "execution_count": 2,
   "metadata": {},
   "outputs": [
    {
     "name": "stdout",
     "output_type": "stream",
     "text": [
      "Largest three digit integer: 999\n",
      "Smallest five digid integer: 10000\n",
      "Sum of the Two: 10999\n"
     ]
    }
   ],
   "source": [
    "largest_three_digit = 999\n",
    "smallest_five_digit = 10000\n",
    "\n",
    "num_sum = largest_three_digit + smallest_five_digit\n",
    "\n",
    "print(\"Largest three digit integer:\", largest_three_digit)\n",
    "print(\"Smallest five digid integer:\", smallest_five_digit)\n",
    "\n",
    "print(\"Sum of the Two:\", num_sum)"
   ]
  },
  {
   "cell_type": "markdown",
   "metadata": {},
   "source": [
    "### Question 3\n",
    "Write a program that calculates the final cost of a set of items. For example, if each item costs 1.43 and we need 9 of them. Then, print the final cost.\r\n",
    "\r\n",
    "- Cost? 1.43\r\n",
    "- How many? 9\r\n",
    "- Total cost is $12.87\r\n",
    "\r\n",
    "First do it by “hard-coding” the numbers. Once you have that working, add the ability to ask the user to input the numbers."
   ]
  },
  {
   "cell_type": "markdown",
   "metadata": {},
   "source": [
    "#### Hard-coding"
   ]
  },
  {
   "cell_type": "code",
   "execution_count": 3,
   "metadata": {},
   "outputs": [
    {
     "name": "stdout",
     "output_type": "stream",
     "text": [
      "Cost?  1.43\n",
      "How many?  9\n",
      "The total cost is $12.87\n"
     ]
    }
   ],
   "source": [
    "cost = 1.43\n",
    "how_many = 9\n",
    "print(\"Cost? \", cost)\n",
    "print(\"How many? \", how_many)\n",
    "print(\"The total cost is $\", cost * how_many, sep='')"
   ]
  },
  {
   "cell_type": "markdown",
   "metadata": {},
   "source": [
    "#### Asking the user (input prompt)"
   ]
  },
  {
   "cell_type": "code",
   "execution_count": 4,
   "metadata": {},
   "outputs": [
    {
     "name": "stdin",
     "output_type": "stream",
     "text": [
      "Cost?  5\n",
      "How many?  5\n"
     ]
    },
    {
     "name": "stdout",
     "output_type": "stream",
     "text": [
      "The total cost is $25.0\n"
     ]
    }
   ],
   "source": [
    "cost = float(input(\"Cost? \"))\n",
    "how_many = int(input(\"How many? \"))\n",
    "print(\"The total cost is $\", cost * how_many, sep='')"
   ]
  },
  {
   "cell_type": "markdown",
   "metadata": {},
   "source": [
    "### Question 4\n",
    "Write a program that for a temperature in degrees Celsius, prints the equivalent temperature in degrees Fahrenheit (multiply C by 1.8, then add 32). For example:\r\n",
    "\r\n",
    "- Celsius temperature: 30\r\n",
    "- Fahrenheit equivalent is: 86\r\n",
    "\r\n",
    "**As with #3, first put the Celsius temperature in your program directly and get it working. Then add the functionality to prompt the user for the Celsius temperature.**"
   ]
  },
  {
   "cell_type": "markdown",
   "metadata": {},
   "source": [
    "#### Hard coding"
   ]
  },
  {
   "cell_type": "code",
   "execution_count": 5,
   "metadata": {},
   "outputs": [
    {
     "name": "stdout",
     "output_type": "stream",
     "text": [
      "Celsius temperature is: 30\n",
      "Fahrenheit equivalent is: 86.0\n"
     ]
    }
   ],
   "source": [
    "celsius = 30\n",
    "fahrenheit = celsius * 1.8 + 32\n",
    "print(\"Celsius temperature is:\", celsius)\n",
    "print(\"Fahrenheit equivalent is:\", fahrenheit)"
   ]
  },
  {
   "cell_type": "markdown",
   "metadata": {},
   "source": [
    "#### Asking the user (input prompt)"
   ]
  },
  {
   "cell_type": "code",
   "execution_count": 6,
   "metadata": {},
   "outputs": [
    {
     "name": "stdin",
     "output_type": "stream",
     "text": [
      "Enter a Celsius temperature:  5\n"
     ]
    },
    {
     "name": "stdout",
     "output_type": "stream",
     "text": [
      "Celsius temperature is: 5.0\n",
      "Fahrenheit equivalent is: 41.0\n"
     ]
    }
   ],
   "source": [
    "celsius = float(input(\"Enter a Celsius temperature: \"))\n",
    "fahrenheit = celsius * 1.8 + 32\n",
    "print(\"Celsius temperature is:\", celsius)\n",
    "print(\"Fahrenheit equivalent is:\", fahrenheit)"
   ]
  },
  {
   "cell_type": "markdown",
   "metadata": {},
   "source": [
    "### Question 5\n",
    "Write a program to evaluate y = 4x + 3 for any float number the user may pick. Ask a user to input any x, and then evaluate y, and present the result to two decimal places.\r\n",
    "\r\n",
    "- For example:\r\n",
    "- Input x: 3.69\r\n",
    "\r\n",
    "The value of y = 4x + 3 is 17.76"
   ]
  },
  {
   "cell_type": "code",
   "execution_count": 7,
   "metadata": {},
   "outputs": [
    {
     "name": "stdin",
     "output_type": "stream",
     "text": [
      "Input x:  3.69\n"
     ]
    },
    {
     "name": "stdout",
     "output_type": "stream",
     "text": [
      "Picked x: 3.69\n",
      "The value of y = 4x + 3 is 17.76\n"
     ]
    }
   ],
   "source": [
    "x = float(input(\"Input x: \"))\n",
    "y = 4 * x + 3\n",
    "print(\"Picked x:\", '%.2f' % x)\n",
    "print(\"The value of y = 4x + 3 is\", '%.2f' % y)"
   ]
  }
 ],
 "metadata": {
  "kernelspec": {
   "display_name": "Python 3",
   "language": "python",
   "name": "python3"
  },
  "language_info": {
   "codemirror_mode": {
    "name": "ipython",
    "version": 3
   },
   "file_extension": ".py",
   "mimetype": "text/x-python",
   "name": "python",
   "nbconvert_exporter": "python",
   "pygments_lexer": "ipython3",
   "version": "3.8.5"
  }
 },
 "nbformat": 4,
 "nbformat_minor": 5
}
