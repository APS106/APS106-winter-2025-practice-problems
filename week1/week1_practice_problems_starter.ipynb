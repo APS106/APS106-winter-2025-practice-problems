{
 "cells": [
  {
   "cell_type": "markdown",
   "id": "1c225866-b681-4a26-86e5-2f75da13bffb",
   "metadata": {},
   "source": [
    "# APS106 - Fundamentals of Computer Programming\n",
    "## Week 1 | Practice Problems\n",
    "\n",
    "### Question 1\n",
    "Write a program that simply prints `\"I am going to love this course\"` to the screen."
   ]
  },
  {
   "cell_type": "code",
   "execution_count": 1,
   "id": "db67543f-a70f-43b9-b370-4b2282d70a81",
   "metadata": {},
   "outputs": [],
   "source": [
    "# Write you code here"
   ]
  },
  {
   "cell_type": "markdown",
   "id": "b4a51275-4f0b-4f4b-af98-9b36687d8937",
   "metadata": {},
   "source": [
    "### Question 2\n",
    "Write a program that defines two integers, one being the largest 3-digit number and one being the smallest 5-digit number. Then, print these two values, and their sum to the screen."
   ]
  },
  {
   "cell_type": "code",
   "execution_count": null,
   "id": "7505d8ff-b8b8-4329-99cd-3bcdc6056a9c",
   "metadata": {},
   "outputs": [],
   "source": [
    "# Write you code here"
   ]
  },
  {
   "cell_type": "markdown",
   "id": "f461be60-fd26-45e4-939c-926e31fb374b",
   "metadata": {},
   "source": [
    "### Question 3\n",
    "Write a program that calculates the final cost of a set of items. For example, if each item costs 1.43 and we need 9 of them. Then, print the final cost.\r\n",
    "\r\n",
    "- Cost? 1.43\r\n",
    "- How many? 9\r\n",
    "- Total cost is $12.87\r\n",
    "\r\n",
    "First do it by “hard-coding” the numbers. Once you have that working, add the ability to ask the user to input the numbers."
   ]
  },
  {
   "cell_type": "code",
   "execution_count": null,
   "id": "ee9858db-7270-4336-b655-68d33547b638",
   "metadata": {},
   "outputs": [],
   "source": [
    "# Write you code here"
   ]
  },
  {
   "cell_type": "markdown",
   "id": "bcd67db3-94a4-4060-87d2-58df4dc37beb",
   "metadata": {},
   "source": [
    "### Question 4\n",
    "Write a program that for a temperature in degrees Celsius, prints the equivalent temperature in degrees Fahrenheit (multiply C by 1.8, then add 32). For example:\r\n",
    "\r\n",
    "- Celsius temperature: 30\r\n",
    "- Fahrenheit equivalent is: 86\r\n",
    "\r\n",
    "**As with #3, first put the Celsius temperature in your program directly and get it working. Then add the functionality to prompt the user for the Celsius temperature.**"
   ]
  },
  {
   "cell_type": "code",
   "execution_count": null,
   "id": "57fc2a69-2b90-44f3-9640-196ca0bffc23",
   "metadata": {},
   "outputs": [],
   "source": [
    "# Write you code here"
   ]
  },
  {
   "cell_type": "markdown",
   "id": "6d9c3ded-3785-4d39-a61b-37522dc6131f",
   "metadata": {},
   "source": [
    "### Question 5\n",
    "Write a program to evaluate y = 4x + 3 for any float number the user may pick. Ask a user to input any x, and then evaluate y, and present the result to two decimal places.\r\n",
    "\r\n",
    "- For example:\r\n",
    "- Input x: 3.69\r\n",
    "\r\n",
    "The value of y = 4x + 3 is 17.76"
   ]
  },
  {
   "cell_type": "code",
   "execution_count": null,
   "id": "caacd7e3-ab1d-4f4c-b16d-c076ab647749",
   "metadata": {},
   "outputs": [],
   "source": [
    "# Write you code here"
   ]
  }
 ],
 "metadata": {
  "kernelspec": {
   "display_name": "Python 3 (ipykernel)",
   "language": "python",
   "name": "python3"
  },
  "language_info": {
   "codemirror_mode": {
    "name": "ipython",
    "version": 3
   },
   "file_extension": ".py",
   "mimetype": "text/x-python",
   "name": "python",
   "nbconvert_exporter": "python",
   "pygments_lexer": "ipython3",
   "version": "3.11.5"
  }
 },
 "nbformat": 4,
 "nbformat_minor": 5
}
